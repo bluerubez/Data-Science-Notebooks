{
 "metadata": {
  "name": "",
  "signature": "sha256:c58430ed969cd68e07eb9621199c9c39ec72e94c373c8e76ca3933211a28f97c"
 },
 "nbformat": 3,
 "nbformat_minor": 0,
 "worksheets": [
  {
   "cells": [
    {
     "cell_type": "code",
     "collapsed": false,
     "input": [
      "from twython import Twython\n",
      "\n",
      "def twitter_oauth_login():\n",
      "    API_KEY = 'PURrZjPULrfdifNTReryJorb1'\n",
      "    API_SECRET = 'PtOXlqpTYQeBl8p9rwGUrUo2iRUtndK0Nim58yzXcY6Vrmr0v0'\n",
      "    ACCESS_TOKEN = '131613959-WRSJmpNPNWj6D7XOBgksfWMI77Onyy47pORS1MSq'\n",
      "    ACCESS_TOKEN_SECRET = '1HSmU7pGSxu3hDxnqpIx71yUlOC6e4deddUfpl17i4wRL'\n",
      "    twitter = Twython(API_KEY, API_SECRET, ACCESS_TOKEN, ACCESS_TOKEN_SECRET)\n",
      "    return(twitter)"
     ],
     "language": "python",
     "metadata": {},
     "outputs": [],
     "prompt_number": 40
    },
    {
     "cell_type": "code",
     "collapsed": false,
     "input": [
      "twitter = twitter_oauth_login()\n",
      "friends_ids = twitter.get_friends_ids(count=5000)\n",
      "friends_ids = friends_ids['ids']\n",
      "followers_ids = twitter.get_followers_ids(count=5000)\n",
      "followers_ids = followers_ids['ids']"
     ],
     "language": "python",
     "metadata": {},
     "outputs": [],
     "prompt_number": 41
    },
    {
     "cell_type": "code",
     "collapsed": false,
     "input": [
      "len(friends_ids), len(followers_ids)"
     ],
     "language": "python",
     "metadata": {},
     "outputs": [
      {
       "metadata": {},
       "output_type": "pyout",
       "prompt_number": 42,
       "text": [
        "(188, 11)"
       ]
      }
     ],
     "prompt_number": 42
    },
    {
     "cell_type": "code",
     "collapsed": false,
     "input": [
      "friends_set = set(friends_ids)\n",
      "followers_set = set(followers_ids)\n",
      "print('Number of Twitter users who either are our friend or follow you (union):')\n",
      "print(len(friends_set.union(followers_set)))"
     ],
     "language": "python",
     "metadata": {},
     "outputs": [
      {
       "output_type": "stream",
       "stream": "stdout",
       "text": [
        "Number of Twitter users who either are our friend or follow you (union):\n",
        "199\n"
       ]
      }
     ],
     "prompt_number": 43
    },
    {
     "cell_type": "code",
     "collapsed": false,
     "input": [
      "print('Number of Twitter users who follow you and are your friend (intersection):')\n",
      "print(len(friends_set & followers_set))"
     ],
     "language": "python",
     "metadata": {},
     "outputs": [
      {
       "output_type": "stream",
       "stream": "stdout",
       "text": [
        "Number of Twitter users who follow you and are your friend (intersection):\n",
        "0\n"
       ]
      }
     ],
     "prompt_number": 44
    },
    {
     "cell_type": "code",
     "collapsed": false,
     "input": [
      "print(\"Number of Twitter users you follow that don't follow you (set difference):\")\n",
      "print(len(friends_set - followers_set))"
     ],
     "language": "python",
     "metadata": {},
     "outputs": [
      {
       "output_type": "stream",
       "stream": "stdout",
       "text": [
        "Number of Twitter users you follow that don't follow you (set difference):\n",
        "188\n"
       ]
      }
     ],
     "prompt_number": 45
    },
    {
     "cell_type": "code",
     "collapsed": false,
     "input": [
      "print(\"Number of Twitter users who follow you that you don't follow (set difference):\")\n",
      "print(len(followers_set - friends_set))"
     ],
     "language": "python",
     "metadata": {},
     "outputs": [
      {
       "output_type": "stream",
       "stream": "stdout",
       "text": [
        "Number of Twitter users who follow you that you don't follow (set difference):\n",
        "11\n"
       ]
      }
     ],
     "prompt_number": 46
    },
    {
     "cell_type": "code",
     "collapsed": false,
     "input": [
      "def pull_users_profiles(ids):\n",
      "    users = []\n",
      "    for i in range(0, len(ids), 100):\n",
      "        batch = ids[i:i + 100]\n",
      "        users += twitter.lookup_user(user_id=batch)\n",
      "        print(twitter.get_lastfunction_header('x-rate-limit- remaining'))\n",
      "    return (users)"
     ],
     "language": "python",
     "metadata": {},
     "outputs": [],
     "prompt_number": 47
    },
    {
     "cell_type": "code",
     "collapsed": false,
     "input": [
      "friends_profiles = pull_users_profiles(friends_ids)"
     ],
     "language": "python",
     "metadata": {},
     "outputs": [
      {
       "output_type": "stream",
       "stream": "stdout",
       "text": [
        "None\n",
        "None"
       ]
      },
      {
       "output_type": "stream",
       "stream": "stdout",
       "text": [
        "\n"
       ]
      }
     ],
     "prompt_number": 48
    },
    {
     "cell_type": "code",
     "collapsed": false,
     "input": [
      "friends_screen_names = [p['screen_name'] for p in friends_profiles]\n",
      "type(friends_screen_names)\n",
      "friends_screen_names[:10]"
     ],
     "language": "python",
     "metadata": {},
     "outputs": [
      {
       "metadata": {},
       "output_type": "pyout",
       "prompt_number": 49,
       "text": [
        "[u'JeanRKirschner',\n",
        " u'StateEdWatch',\n",
        " u'briannaj277',\n",
        " u'cgewertz',\n",
        " u'emthinds',\n",
        " u'omegaxcn',\n",
        " u'PoliticsK12',\n",
        " u'EdWeekSCavanagh',\n",
        " u'FILMJACKETS',\n",
        " u'SamStraube']"
       ]
      }
     ],
     "prompt_number": 49
    },
    {
     "cell_type": "code",
     "collapsed": false,
     "input": [
      "import json\n",
      "def save_json(filename, data):\n",
      "    with open(filename, 'wb') as outfile:\n",
      "        json.dump(data, outfile)\n",
      "fname = \"test_friends_profiles.json\"\n",
      "save_json(fname, friends_profiles)"
     ],
     "language": "python",
     "metadata": {},
     "outputs": [],
     "prompt_number": 50
    },
    {
     "cell_type": "code",
     "collapsed": false,
     "input": [
      "!ls"
     ],
     "language": "python",
     "metadata": {},
     "outputs": [
      {
       "output_type": "stream",
       "stream": "stdout",
       "text": [
        "autosave.xmi\t\t   hbase\t\t   Templates\r\n",
        "codes\t\t\t   marvel_data\t\t   test_friends_profiles.json\r\n",
        "Data Science keywords.odt  marvel_data.tsv \t   test.html\r\n",
        "dataSets\t\t   Music\t\t   testing.txt\r\n",
        "Desktop\t\t\t   Pictures\t\t   Untitled0.ipynb\r\n",
        "Documents\t\t   plays.json\t\t   Untitled1.ipynb\r\n",
        "Downloads\t\t   Public\t\t   us_states.html\r\n",
        "erl_crash.dump\t\t   python books\t\t   Videos\r\n",
        "examples.desktop\t   R\t\t\t   weka.log\r\n",
        "feb-11-5103-data-viz\t   SqlViewerHistory.props  zookeeper\r\n"
       ]
      }
     ],
     "prompt_number": 51
    },
    {
     "cell_type": "code",
     "collapsed": false,
     "input": [
      "def load_json(filename):\n",
      "    with open(filename) as infile:\n",
      "        data = json.load(infile)\n",
      "    return data\n",
      "test_reload = load_json(fname)\n",
      "print(test_reload[0])"
     ],
     "language": "python",
     "metadata": {},
     "outputs": [
      {
       "output_type": "stream",
       "stream": "stdout",
       "text": [
        "{u'follow_request_sent': False, u'profile_use_background_image': True, u'profile_text_color': u'333333', u'time_zone': None, u'id': 2266310125, u'verified': False, u'profile_location': None, u'profile_image_url_https': u'https://pbs.twimg.com/profile_images/470014573068566528/h1YU38f3_normal.jpeg', u'profile_sidebar_fill_color': u'DDEEF6', u'is_translator': False, u'geo_enabled': False, u'entities': {u'description': {u'urls': []}}, u'followers_count': 6, u'protected': False, u'id_str': u'2266310125', u'default_profile_image': False, u'listed_count': 0, u'status': {u'contributors': None, u'truncated': False, u'text': u'I unearthed the Data Frames badge while Trying R http://t.co/L4hhsCfSFA via @codeschool', u'in_reply_to_status_id': None, u'id': 471722289881292802, u'favorite_count': 0, u'source': u'<a href=\"https://dev.twitter.com/docs/tfw\" rel=\"nofollow\">Twitter for Websites</a>', u'retweeted': False, u'coordinates': None, u'entities': {u'symbols': [], u'user_mentions': [{u'indices': [76, 87], u'screen_name': u'codeschool', u'id': 240254617, u'name': u'Code School', u'id_str': u'240254617'}], u'hashtags': [], u'urls': [{u'url': u'http://t.co/L4hhsCfSFA', u'indices': [49, 71], u'expanded_url': u'http://tryr.codeschool.com', u'display_url': u'tryr.codeschool.com'}]}, u'in_reply_to_screen_name': None, u'id_str': u'471722289881292802', u'retweet_count': 0, u'in_reply_to_user_id': None, u'favorited': False, u'geo': None, u'in_reply_to_user_id_str': None, u'possibly_sensitive': False, u'lang': u'en', u'created_at': u'Wed May 28 18:38:52 +0000 2014', u'in_reply_to_status_id_str': None, u'place': None}, u'lang': u'en', u'utc_offset': None, u'statuses_count': 6, u'description': u'', u'friends_count': 53, u'profile_link_color': u'0084B4', u'profile_image_url': u'http://pbs.twimg.com/profile_images/470014573068566528/h1YU38f3_normal.jpeg', u'notifications': False, u'profile_background_image_url_https': u'https://abs.twimg.com/images/themes/theme1/bg.png', u'profile_background_color': u'C0DEED', u'profile_banner_url': u'https://pbs.twimg.com/profile_banners/2266310125/1400895113', u'profile_background_image_url': u'http://abs.twimg.com/images/themes/theme1/bg.png', u'screen_name': u'JeanRKirschner', u'is_translation_enabled': False, u'profile_background_tile': False, u'favourites_count': 0, u'name': u'JRK', u'url': None, u'created_at': u'Sat Dec 28 18:57:53 +0000 2013', u'contributors_enabled': False, u'location': u'', u'profile_sidebar_border_color': u'C0DEED', u'default_profile': True, u'following': True}\n"
       ]
      }
     ],
     "prompt_number": 52
    },
    {
     "cell_type": "code",
     "collapsed": false,
     "input": [
      "import pymongo\n",
      "\n",
      "host_string = \"mongodb://localhost\"\n",
      "port = 27017\n",
      "mongo_client = pymongo.MongoClient(host_string, port)\n",
      "\n",
      "mongo_db = mongo_client['test1']\n",
      "\n",
      "user_profiles_collection = mongo_db['user_profiles1']\n",
      "user_profiles_collection.insert(friends_profiles)\n",
      "user_profiles_collection.insert(followers_profiles)"
     ],
     "language": "python",
     "metadata": {},
     "outputs": [
      {
       "metadata": {},
       "output_type": "pyout",
       "prompt_number": 62,
       "text": [
        "[ObjectId('54ea3bc36bff170ed7a2affa'),\n",
        " ObjectId('54ea3bc36bff170ed7a2affb'),\n",
        " ObjectId('54ea3bc36bff170ed7a2affc'),\n",
        " ObjectId('54ea3bc36bff170ed7a2affd'),\n",
        " ObjectId('54ea3bc36bff170ed7a2affe'),\n",
        " ObjectId('54ea3bc36bff170ed7a2afff'),\n",
        " ObjectId('54ea3bc36bff170ed7a2b000'),\n",
        " ObjectId('54ea3bc36bff170ed7a2b001'),\n",
        " ObjectId('54ea3bc36bff170ed7a2b002'),\n",
        " ObjectId('54ea3bc36bff170ed7a2b003'),\n",
        " ObjectId('54ea3bc36bff170ed7a2b004')]"
       ]
      }
     ],
     "prompt_number": 62
    },
    {
     "cell_type": "code",
     "collapsed": false,
     "input": [
      "geo_enabled = [p['geo_enabled'] for p in friends_profiles]\n",
      "geo_enabled.count(1)"
     ],
     "language": "python",
     "metadata": {},
     "outputs": [
      {
       "metadata": {},
       "output_type": "pyout",
       "prompt_number": 63,
       "text": [
        "60"
       ]
      }
     ],
     "prompt_number": 63
    },
    {
     "cell_type": "code",
     "collapsed": false,
     "input": [
      "location = [p['location'] for p in friends_profiles]\n",
      "location.count('')"
     ],
     "language": "python",
     "metadata": {},
     "outputs": [
      {
       "metadata": {},
       "output_type": "pyout",
       "prompt_number": 64,
       "text": [
        "28"
       ]
      }
     ],
     "prompt_number": 64
    },
    {
     "cell_type": "code",
     "collapsed": false,
     "input": [
      "print(set(location))"
     ],
     "language": "python",
     "metadata": {},
     "outputs": [
      {
       "output_type": "stream",
       "stream": "stdout",
       "text": [
        "set([u'', u'Manchester', u'Around the world', u'Citizens Bank Park', u'New York and Northampton, MA', u'Bethesda, MD.', u'PHILLY-NYC', u'Hudson Valley, NY, USA', u'Between gluons and galaxies', u'San Francisco, CA, US', u'NYC', u'San Francisco/New York', u'Mars ', u'The Internet & NYC', u'Connecticut', u'Washington, DC', u'San Francisco, California', u'Florida, USA', u'London, UK', u'1 AU', u'USA and UK', u'Global', u'London', u'Trailing Earth around the Sun', u'Seattle', u'#Philadelphia #Philly', u'Silver Spring, MD', u'Greenbelt, MD USA', u'Pittsboro, NC', u'Washington, D.C. ', u'San Francisco', u'New York, New York', u'Philly / Everywhere', u'Worldwide', u'Hawthorne, CA', u'New York City', u'Everywhere', u'Los Angeles', u'Play Your Heart Out', u'Pasadena, California, USA', u'Redmond, WA', u'Bellevue,WA/New York City', u'ATL, BOS, BGR, CDG', u'United States', u'At the edge of reality.', u'Saturn, Solar System', u'Pasadena, CA', u'Brooklyn, NY', u'Cambridge', u'Boston', u'Philadelphia, PA, US', u'Seattle, WA', u'Bay Area, CA', u'New York ', u'Bellevue, Washington', u'Europe', u'Washington, DC & Cambridge, UK', u'Madison, WI', u'USA/Silicon Valley', u'Brooklyn', u'New York City, NY, USA', u'Mountain View, CA', u'San Bruno, CA', u'San Francisco, CA', u'Philadelphia, PA', u'Arlington, Virginia', u'Portland, OR', u'New York', u'Noordwijk, The Netherlands', u'Raleigh, NC', u'USA', u'Chicago', u'Pasadena, California', u'Philadelphia', u'New York, NY', u'Mars: Gusev Crater & Meridiani', u'Cambridge, MA', u'Darmstadt, Germany', u'Geneva', u'Bethesda, MD', u'LA & NYC, USA', u'Gale Crater, Mars', u'Everywhere, all the time', u'Philadelphia, Pa.  USA', u'Washington D.C. ', u'Los Angeles, CA', u'Philadelphia, PA - Old City', u'Troy, NY & Cambridge, MA ', u'Shirts in Washington', u'Atlantic City, NJ', u'Chicago, IL', u'Mind: Late Jurassic. Body: SLC', u'South Jersey', u'Earth'])\n"
       ]
      }
     ],
     "prompt_number": 65
    },
    {
     "cell_type": "code",
     "collapsed": false,
     "input": [
      "time_zone = [p['time_zone'] for p in friends_profiles]\n",
      "time_zone.count(None)\n",
      "print(set(time_zone))"
     ],
     "language": "python",
     "metadata": {},
     "outputs": [
      {
       "output_type": "stream",
       "stream": "stdout",
       "text": [
        "set([u'Arizona', u'Eastern Time (US & Canada)', u'Quito', u'Paris', u'Hawaii', u'Atlantic Time (Canada)', u'Alaska', u'Mountain Time (US & Canada)', u'Pacific Time (US & Canada)', u'Berlin', u'Rome', u'London', u'Central Time (US & Canada)', u'Amsterdam', None, u'Casablanca'])\n"
       ]
      }
     ],
     "prompt_number": 66
    }
   ],
   "metadata": {}
  }
 ]
}