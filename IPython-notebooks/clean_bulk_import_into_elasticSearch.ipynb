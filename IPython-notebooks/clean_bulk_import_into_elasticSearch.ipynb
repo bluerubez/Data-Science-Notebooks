{
 "metadata": {
  "name": "",
  "signature": "sha256:c55396970d6a5e3ee6afb9325059d671eaa08aba5f48061bcdd4a73fe3fe5f3b"
 },
 "nbformat": 3,
 "nbformat_minor": 0,
 "worksheets": [
  {
   "cells": [
    {
     "cell_type": "heading",
     "level": 3,
     "metadata": {},
     "source": [
      "In This Notebook I Am Going To Bulk Import Titanic Data Set Into Elasticseach"
     ]
    },
    {
     "cell_type": "code",
     "collapsed": false,
     "input": [
      "import urllib2\n",
      "import csv\n",
      "from elasticsearch import Elasticsearch"
     ],
     "language": "python",
     "metadata": {},
     "outputs": [],
     "prompt_number": 215
    },
    {
     "cell_type": "code",
     "collapsed": false,
     "input": [
      "file_url   = \"http://apps.sloanahrens.com/qbox-blog-resources/kaggle-titanic-data/test.csv\"\n",
      "url_reader = urllib2.urlopen( file_url )\n",
      "csv_reader = csv.reader( url_reader )"
     ],
     "language": "python",
     "metadata": {},
     "outputs": [],
     "prompt_number": 216
    },
    {
     "cell_type": "code",
     "collapsed": false,
     "input": [
      "import urllib\n",
      "urllib.urlretrieve ( file_url, \"titanic_data.csv\");"
     ],
     "language": "python",
     "metadata": {},
     "outputs": [
      {
       "metadata": {},
       "output_type": "pyout",
       "prompt_number": 217,
       "text": [
        "('titanic_data.csv', <httplib.HTTPMessage instance at 0x7f4610e799e0>)"
       ]
      }
     ],
     "prompt_number": 217
    },
    {
     "cell_type": "code",
     "collapsed": false,
     "input": [
      "!head titanic_data.csv"
     ],
     "language": "python",
     "metadata": {},
     "outputs": [
      {
       "output_type": "stream",
       "stream": "stdout",
       "text": [
        "head: cannot open \u2018titanic_data.csv\u2019 for reading: No such file or directory\r\n"
       ]
      }
     ],
     "prompt_number": 256
    },
    {
     "cell_type": "code",
     "collapsed": false,
     "input": [
      "es = Elasticsearch()"
     ],
     "language": "python",
     "metadata": {},
     "outputs": [],
     "prompt_number": 219
    },
    {
     "cell_type": "heading",
     "level": 3,
     "metadata": {},
     "source": [
      "Make Sure Index Does Not Exist Then Create Titanic Index"
     ]
    },
    {
     "cell_type": "code",
     "collapsed": false,
     "input": [
      "index_name = \"titanic\"\n",
      "if es.indices.exists( index_name ):\n",
      "    print( \" Attempting to delete '%s'\" % index_name )\n",
      "    response_delete = es.indices.delete( index = index_name )"
     ],
     "language": "python",
     "metadata": {},
     "outputs": [
      {
       "output_type": "stream",
       "stream": "stdout",
       "text": [
        " Attempting to delete 'titanic'\n"
       ]
      }
     ],
     "prompt_number": 220
    },
    {
     "cell_type": "code",
     "collapsed": false,
     "input": [
      "create_body = {\n",
      "    \"settings\": {\n",
      "    \"number_of_shards\":   1,\n",
      "    \"number_of_replicas\": 0\n",
      "    }\n",
      "  }\n",
      "\n",
      "response_create = es.indices.create( index = index_name, body = create_body )\n",
      "print response"
     ],
     "language": "python",
     "metadata": {},
     "outputs": [
      {
       "output_type": "stream",
       "stream": "stdout",
       "text": [
        "{u'acknowledged': True}\n"
       ]
      }
     ],
     "prompt_number": 221
    },
    {
     "cell_type": "heading",
     "level": 3,
     "metadata": {},
     "source": [
      "Ok so we have a csv file and we have to load this into elasticsearch. Now, elasticsearch stores its documents as json objects. So we have to clean it so we can bulk load it into es."
     ]
    },
    {
     "cell_type": "heading",
     "level": 3,
     "metadata": {},
     "source": [
      "    We have to:\n",
      "    1. make sure all columns are of the same type\n",
      "\n",
      "    2. make a dict mapping column header keys to each row values\n",
      "\n",
      "    3. create a meta data tag for each document specifically so map a primary key for each record to each document"
     ]
    },
    {
     "cell_type": "code",
     "collapsed": false,
     "input": [
      "datatypes_map = {\n",
      "  \"passengerid\" : int,\n",
      "  \"pclass\"      : int,\n",
      "  \"name\"        : str,\n",
      "  \"sex\"         : str,\n",
      "  \"age\"         : float,\n",
      "  \"sibsp\"       : int,\n",
      "  \"parch\"       : int,\n",
      "  \"ticket\"      : str,\n",
      "  \"fare\"        : float,\n",
      "  \"cabin\"       : str,\n",
      "  \"embarked\"    : str\n",
      "}\n",
      "# name of the type of document and make passenger id the primary key\n",
      "type_name  = \"passenger\"\n",
      "id_field   = \"passengerid\""
     ],
     "language": "python",
     "metadata": {},
     "outputs": [],
     "prompt_number": 222
    },
    {
     "cell_type": "heading",
     "level": 3,
     "metadata": {},
     "source": [
      "Read in header and make all lower case"
     ]
    },
    {
     "cell_type": "code",
     "collapsed": false,
     "input": [
      "bulk_data = []\n",
      "first_row  = csv_reader.next()\n",
      "csv_header = [ cell.lower() for cell in first_row ]\n",
      "print( \" Parsed first line as column headers: '%s'\" % csv_header )"
     ],
     "language": "python",
     "metadata": {},
     "outputs": [
      {
       "output_type": "stream",
       "stream": "stdout",
       "text": [
        "[BUILD_BULK_DATA] Parsed first line as column headers: '['passengerid', 'pclass', 'name', 'sex', 'age', 'sibsp', 'parch', 'ticket', 'fare', 'cabin', 'embarked']'\n"
       ]
      }
     ],
     "prompt_number": 223
    },
    {
     "cell_type": "code",
     "collapsed": false,
     "input": [
      "#Create a dict to map header keys to values for each row\n",
      "for row in csv_reader:\n",
      "    data_record = {}\n",
      "    \n",
      "    #For each cell in the row\n",
      "    for i in range( len(row) ):\n",
      "      #skips empty values as seen with the head command\n",
      "      if row[i] == \"\":\n",
      "        continue\n",
      "\n",
      "      #save each column name and corresponding key value into temporary variables\n",
      "      cell_column_name = csv_header[ i ]\n",
      "      cell_data_value  = row[ i ]\n",
      "        \n",
      "      #this maps column name to its corresponding type\n",
      "      datatype         = datatypes_map[ cell_column_name ]\n",
      "      \n",
      "      #this creates the key/value dict and casts the data type to right type for each column\n",
      "      data_record[ cell_column_name ] = datatype( cell_data_value )\n",
      "\n",
      "      #create the meta data for each document including the primary key id_field which is passenger id\n",
      "      meta_data = {\n",
      "      \"index\": {\n",
      "        \"_index\": index_name,\n",
      "        \"_type\":  type_name,\n",
      "        \"_id\":    data_record[ id_field ]\n",
      "        }\n",
      "      }\n",
      "      \n",
      "      #append the documents into the dict\n",
      "      bulk_data.append( meta_data )\n",
      "      bulk_data.append( data_record )\n"
     ],
     "language": "python",
     "metadata": {},
     "outputs": [],
     "prompt_number": 224
    },
    {
     "cell_type": "heading",
     "level": 3,
     "metadata": {},
     "source": [
      "Ok now the data is \"very nicee\" "
     ]
    },
    {
     "cell_type": "code",
     "collapsed": false,
     "input": [
      "print bulk_data[0:2]"
     ],
     "language": "python",
     "metadata": {},
     "outputs": [
      {
       "output_type": "stream",
       "stream": "stdout",
       "text": [
        "[{'index': {'_type': 'passenger', '_id': 892, '_index': 'titanic'}}, {'fare': 7.8292, 'name': 'Kelly, Mr. James', 'embarked': 'Q', 'age': 34.5, 'parch': 0, 'pclass': 3, 'sex': 'male', 'sibsp': 0, 'passengerid': 892, 'ticket': '330911'}]\n"
       ]
      }
     ],
     "prompt_number": 234
    },
    {
     "cell_type": "code",
     "collapsed": false,
     "input": [
      "response = es.bulk( index = index_name, body = bulk_data, refresh = True );print response"
     ],
     "language": "python",
     "metadata": {},
     "outputs": [
      {
       "output_type": "stream",
       "stream": "stdout",
       "text": [
        "{u'items': [{u'index': {u'status': 200, u'_type': u'passenger', u'_id': u'892', u'_version': 7, u'_index': u'titanic'}}, {u'index': {u'status': 200, u'_type': u'passenger', u'_id': u'893', u'_version': 7, u'_index': u'titanic'}}, {u'index': {u'status': 200, u'_type': u'passenger', u'_id': u'894', u'_version': 7, u'_index': u'titanic'}}, {u'index': {u'status': 200, u'_type': u'passenger', u'_id': u'895', u'_version': 7, u'_index': u'titanic'}}, {u'index': {u'status': 200, u'_type': u'passenger', u'_id': u'896', u'_version': 7, u'_index': u'titanic'}}, {u'index': {u'status': 200, u'_type': u'passenger', u'_id': u'897', u'_version': 7, u'_index': u'titanic'}}, {u'index': {u'status': 200, u'_type': u'passenger', u'_id': u'898', u'_version': 7, u'_index': u'titanic'}}, {u'index': {u'status': 200, u'_type': u'passenger', u'_id': u'899', u'_version': 7, u'_index': u'titanic'}}, {u'index': {u'status': 200, u'_type': u'passenger', u'_id': u'900', u'_version': 7, u'_index': u'titanic'}}, {u'index': {u'status': 200, u'_type': u'passenger', u'_id': u'901', u'_version': 7, u'_index': u'titanic'}}, {u'index': {u'status': 200, u'_type': u'passenger', u'_id': u'902', u'_version': 7, u'_index': u'titanic'}}, {u'index': {u'status': 200, u'_type': u'passenger', u'_id': u'903', u'_version': 7, u'_index': u'titanic'}}, {u'index': {u'status': 200, u'_type': u'passenger', u'_id': u'904', u'_version': 7, u'_index': u'titanic'}}, {u'index': {u'status': 200, u'_type': u'passenger', u'_id': u'905', u'_version': 7, u'_index': u'titanic'}}, {u'index': {u'status': 200, u'_type': u'passenger', u'_id': u'906', u'_version': 7, u'_index': u'titanic'}}, {u'index': {u'status': 200, u'_type': u'passenger', u'_id': u'907', u'_version': 7, u'_index': u'titanic'}}, {u'index': {u'status': 200, u'_type': u'passenger', u'_id': u'908', u'_version': 7, u'_index': u'titanic'}}, {u'index': {u'status': 200, u'_type': u'passenger', u'_id': u'909', u'_version': 7, u'_index': u'titanic'}}, {u'index': {u'status': 200, u'_type': u'passenger', u'_id': u'910', u'_version': 7, u'_index': u'titanic'}}, {u'index': {u'status': 200, u'_type': u'passenger', u'_id': u'911', u'_version': 7, u'_index': u'titanic'}}, {u'index': {u'status': 200, u'_type': u'passenger', u'_id': u'912', u'_version': 7, u'_index': u'titanic'}}, {u'index': {u'status': 200, u'_type': u'passenger', u'_id': u'913', u'_version': 7, u'_index': u'titanic'}}, {u'index': {u'status': 200, u'_type': u'passenger', u'_id': u'914', u'_version': 7, u'_index': u'titanic'}}, {u'index': {u'status': 200, u'_type': u'passenger', u'_id': u'915', u'_version': 7, u'_index': u'titanic'}}, {u'index': {u'status': 200, u'_type': u'passenger', u'_id': u'916', u'_version': 7, u'_index': u'titanic'}}, {u'index': {u'status': 200, u'_type': u'passenger', u'_id': u'917', u'_version': 7, u'_index': u'titanic'}}, {u'index': {u'status': 200, u'_type': u'passenger', u'_id': u'918', u'_version': 7, u'_index': u'titanic'}}, {u'index': {u'status': 200, u'_type': u'passenger', u'_id': u'919', u'_version': 7, u'_index': u'titanic'}}, {u'index': {u'status': 200, u'_type': u'passenger', u'_id': u'920', u'_version': 7, u'_index': u'titanic'}}, {u'index': {u'status': 200, u'_type': u'passenger', u'_id': u'921', u'_version': 7, u'_index': u'titanic'}}, {u'index': {u'status': 200, u'_type': u'passenger', u'_id': u'922', u'_version': 7, u'_index': u'titanic'}}, {u'index': {u'status': 200, u'_type': u'passenger', u'_id': u'923', u'_version': 7, u'_index': u'titanic'}}, {u'index': {u'status': 200, u'_type': u'passenger', u'_id': u'924', u'_version': 7, u'_index': u'titanic'}}, {u'index': {u'status': 200, u'_type': u'passenger', u'_id': u'925', u'_version': 7, u'_index': u'titanic'}}, {u'index': {u'status': 200, u'_type': u'passenger', u'_id': u'926', u'_version': 7, u'_index': u'titanic'}}, {u'index': {u'status': 200, u'_type': u'passenger', u'_id': u'927', u'_version': 7, u'_index': u'titanic'}}, {u'index': {u'status': 200, u'_type': u'passenger', u'_id': u'928', u'_version': 7, u'_index': u'titanic'}}, {u'index': {u'status': 200, u'_type': u'passenger', u'_id': u'929', u'_version': 7, u'_index': u'titanic'}}, {u'index': {u'status': 200, u'_type': u'passenger', u'_id': u'930', u'_version': 7, u'_index': u'titanic'}}, {u'index': {u'status': 200, u'_type': u'passenger', u'_id': u'931', u'_version': 7, u'_index': u'titanic'}}, {u'index': {u'status': 200, u'_type': u'passenger', u'_id': u'932', u'_version': 7, u'_index': u'titanic'}}, {u'index': {u'status': 200, u'_type': u'passenger', u'_id': u'933', u'_version': 7, u'_index': u'titanic'}}, {u'index': {u'status': 200, u'_type': u'passenger', u'_id': u'934', u'_version': 7, u'_index': u'titanic'}}, {u'index': {u'status': 200, u'_type': u'passenger', u'_id': u'935', u'_version': 7, u'_index': u'titanic'}}, {u'index': {u'status': 200, u'_type': u'passenger', u'_id': u'936', u'_version': 7, u'_index': u'titanic'}}, {u'index': {u'status': 200, u'_type': u'passenger', u'_id': u'937', u'_version': 7, u'_index': u'titanic'}}, {u'index': {u'status': 200, u'_type': u'passenger', u'_id': u'938', u'_version': 7, u'_index': u'titanic'}}, {u'index': {u'status': 200, u'_type': u'passenger', u'_id': u'939', u'_version': 7, u'_index': u'titanic'}}, {u'index': {u'status': 200, u'_type': u'passenger', u'_id': u'940', u'_version': 7, u'_index': u'titanic'}}, {u'index': {u'status': 200, u'_type': u'passenger', u'_id': u'941', u'_version': 7, u'_index': u'titanic'}}, {u'index': {u'status': 200, u'_type': u'passenger', u'_id': u'942', u'_version': 7, u'_index': u'titanic'}}, {u'index': {u'status': 200, u'_type': u'passenger', u'_id': u'943', u'_version': 7, u'_index': u'titanic'}}, {u'index': {u'status': 200, u'_type': u'passenger', u'_id': u'944', u'_version': 7, u'_index': u'titanic'}}, {u'index': {u'status': 200, u'_type': u'passenger', u'_id': u'945', u'_version': 7, u'_index': u'titanic'}}, {u'index': {u'status': 200, u'_type': u'passenger', u'_id': u'946', u'_version': 7, u'_index': u'titanic'}}, {u'index': {u'status': 200, u'_type': u'passenger', u'_id': u'947', u'_version': 7, u'_index': u'titanic'}}, {u'index': {u'status': 200, u'_type': u'passenger', u'_id': u'948', u'_version': 7, u'_index': u'titanic'}}, {u'index': {u'status': 200, u'_type': u'passenger', u'_id': u'949', u'_version': 7, u'_index': u'titanic'}}, {u'index': {u'status': 200, u'_type': u'passenger', u'_id': u'950', u'_version': 7, u'_index': u'titanic'}}, {u'index': {u'status': 200, u'_type': u'passenger', u'_id': u'951', u'_version': 7, u'_index': u'titanic'}}, {u'index': {u'status': 200, u'_type': u'passenger', u'_id': u'952', u'_version': 7, u'_index': u'titanic'}}, {u'index': {u'status': 200, u'_type': u'passenger', u'_id': u'953', u'_version': 7, u'_index': u'titanic'}}, {u'index': {u'status': 200, u'_type': u'passenger', u'_id': u'954', u'_version': 7, u'_index': u'titanic'}}, {u'index': {u'status': 200, u'_type': u'passenger', u'_id': u'955', u'_version': 7, u'_index': u'titanic'}}, {u'index': {u'status': 200, u'_type': u'passenger', u'_id': u'956', u'_version': 7, u'_index': u'titanic'}}, {u'index': {u'status': 200, u'_type': u'passenger', u'_id': u'957', u'_version': 7, u'_index': u'titanic'}}, {u'index': {u'status': 200, u'_type': u'passenger', u'_id': u'958', u'_version': 7, u'_index': u'titanic'}}, {u'index': {u'status': 200, u'_type': u'passenger', u'_id': u'959', u'_version': 7, u'_index': u'titanic'}}, {u'index': {u'status': 200, u'_type': u'passenger', u'_id': u'960', u'_version': 7, u'_index': u'titanic'}}, {u'index': {u'status': 200, u'_type': u'passenger', u'_id': u'961', u'_version': 7, u'_index': u'titanic'}}, {u'index': {u'status': 200, u'_type': u'passenger', u'_id': u'962', u'_version': 7, u'_index': u'titanic'}}, {u'index': {u'status': 200, u'_type': u'passenger', u'_id': u'963', u'_version': 7, u'_index': u'titanic'}}, {u'index': {u'status': 200, u'_type': u'passenger', u'_id': u'964', u'_version': 7, u'_index': u'titanic'}}, {u'index': {u'status': 200, u'_type': u'passenger', u'_id': u'965', u'_version': 7, u'_index': u'titanic'}}, {u'index': {u'status': 200, u'_type': u'passenger', u'_id': u'966', u'_version': 7, u'_index': u'titanic'}}, {u'index': {u'status': 200, u'_type': u'passenger', u'_id': u'967', u'_version': 7, u'_index': u'titanic'}}, {u'index': {u'status': 200, u'_type': u'passenger', u'_id': u'968', u'_version': 7, u'_index': u'titanic'}}, {u'index': {u'status': 200, u'_type': u'passenger', u'_id': u'969', u'_version': 7, u'_index': u'titanic'}}, {u'index': {u'status': 200, u'_type': u'passenger', u'_id': u'970', u'_version': 7, u'_index': u'titanic'}}, {u'index': {u'status': 200, u'_type': u'passenger', u'_id': u'971', u'_version': 7, u'_index': u'titanic'}}, {u'index': {u'status': 200, u'_type': u'passenger', u'_id': u'972', u'_version': 7, u'_index': u'titanic'}}, {u'index': {u'status': 200, u'_type': u'passenger', u'_id': u'973', u'_version': 7, u'_index': u'titanic'}}, {u'index': {u'status': 200, u'_type': u'passenger', u'_id': u'974', u'_version': 7, u'_index': u'titanic'}}, {u'index': {u'status': 200, u'_type': u'passenger', u'_id': u'975', u'_version': 7, u'_index': u'titanic'}}, {u'index': {u'status': 200, u'_type': u'passenger', u'_id': u'976', u'_version': 7, u'_index': u'titanic'}}, {u'index': {u'status': 200, u'_type': u'passenger', u'_id': u'977', u'_version': 7, u'_index': u'titanic'}}, {u'index': {u'status': 200, u'_type': u'passenger', u'_id': u'978', u'_version': 7, u'_index': u'titanic'}}, {u'index': {u'status': 200, u'_type': u'passenger', u'_id': u'979', u'_version': 7, u'_index': u'titanic'}}, {u'index': {u'status': 200, u'_type': u'passenger', u'_id': u'980', u'_version': 7, u'_index': u'titanic'}}, {u'index': {u'status': 200, u'_type': u'passenger', u'_id': u'981', u'_version': 7, u'_index': u'titanic'}}, {u'index': {u'status': 200, u'_type': u'passenger', u'_id': u'982', u'_version': 7, u'_index': u'titanic'}}, {u'index': {u'status': 200, u'_type': u'passenger', u'_id': u'983', u'_version': 7, u'_index': u'titanic'}}, {u'index': {u'status': 200, u'_type': u'passenger', u'_id': u'984', u'_version': 7, u'_index': u'titanic'}}, {u'index': {u'status': 200, u'_type': u'passenger', u'_id': u'985', u'_version': 7, u'_index': u'titanic'}}, {u'index': {u'status': 200, u'_type': u'passenger', u'_id': u'986', u'_version': 7, u'_index': u'titanic'}}, {u'index': {u'status': 200, u'_type': u'passenger', u'_id': u'987', u'_version': 7, u'_index': u'titanic'}}, {u'index': {u'status': 200, u'_type': u'passenger', u'_id': u'988', u'_version': 7, u'_index': u'titanic'}}, {u'index': {u'status': 200, u'_type': u'passenger', u'_id': u'989', u'_version': 7, u'_index': u'titanic'}}, {u'index': {u'status': 200, u'_type': u'passenger', u'_id': u'990', u'_version': 7, u'_index': u'titanic'}}, {u'index': {u'status': 200, u'_type': u'passenger', u'_id': u'991', u'_version': 7, u'_index': u'titanic'}}, {u'index': {u'status': 200, u'_type': u'passenger', u'_id': u'992', u'_version': 7, u'_index': u'titanic'}}, {u'index': {u'status': 200, u'_type': u'passenger', u'_id': u'993', u'_version': 7, u'_index': u'titanic'}}, {u'index': {u'status': 200, u'_type': u'passenger', u'_id': u'994', u'_version': 7, u'_index': u'titanic'}}, {u'index': {u'status': 200, u'_type': u'passenger', u'_id': u'995', u'_version': 7, u'_index': u'titanic'}}, {u'index': {u'status': 200, u'_type': u'passenger', u'_id': u'996', u'_version': 7, u'_index': u'titanic'}}, {u'index': {u'status': 200, u'_type': u'passenger', u'_id': u'997', u'_version': 7, u'_index': u'titanic'}}, {u'index': {u'status': 200, u'_type': u'passenger', u'_id': u'998', u'_version': 7, u'_index': u'titanic'}}, {u'index': {u'status': 200, u'_type': u'passenger', u'_id': u'999', u'_version': 7, u'_index': u'titanic'}}, {u'index': {u'status': 200, u'_type': u'passenger', u'_id': u'1000', u'_version': 7, u'_index': u'titanic'}}, {u'index': {u'status': 200, u'_type': u'passenger', u'_id': u'1001', u'_version': 7, u'_index': u'titanic'}}, {u'index': {u'status': 200, u'_type': u'passenger', u'_id': u'1002', u'_version': 7, u'_index': u'titanic'}}, {u'index': {u'status': 200, u'_type': u'passenger', u'_id': u'1003', u'_version': 7, u'_index': u'titanic'}}, {u'index': {u'status': 200, u'_type': u'passenger', u'_id': u'1004', u'_version': 7, u'_index': u'titanic'}}, {u'index': {u'status': 200, u'_type': u'passenger', u'_id': u'1005', u'_version': 7, u'_index': u'titanic'}}, {u'index': {u'status': 200, u'_type': u'passenger', u'_id': u'1006', u'_version': 7, u'_index': u'titanic'}}, {u'index': {u'status': 200, u'_type': u'passenger', u'_id': u'1007', u'_version': 7, u'_index': u'titanic'}}, {u'index': {u'status': 200, u'_type': u'passenger', u'_id': u'1008', u'_version': 7, u'_index': u'titanic'}}, {u'index': {u'status': 200, u'_type': u'passenger', u'_id': u'1009', u'_version': 7, u'_index': u'titanic'}}, {u'index': {u'status': 200, u'_type': u'passenger', u'_id': u'1010', u'_version': 7, u'_index': u'titanic'}}, {u'index': {u'status': 200, u'_type': u'passenger', u'_id': u'1011', u'_version': 7, u'_index': u'titanic'}}, {u'index': {u'status': 200, u'_type': u'passenger', u'_id': u'1012', u'_version': 7, u'_index': u'titanic'}}, {u'index': {u'status': 200, u'_type': u'passenger', u'_id': u'1013', u'_version': 7, u'_index': u'titanic'}}, {u'index': {u'status': 200, u'_type': u'passenger', u'_id': u'1014', u'_version': 7, u'_index': u'titanic'}}, {u'index': {u'status': 200, u'_type': u'passenger', u'_id': u'1015', u'_version': 7, u'_index': u'titanic'}}, {u'index': {u'status': 200, u'_type': u'passenger', u'_id': u'1016', u'_version': 7, u'_index': u'titanic'}}, {u'index': {u'status': 200, u'_type': u'passenger', u'_id': u'1017', u'_version': 7, u'_index': u'titanic'}}, {u'index': {u'status': 200, u'_type': u'passenger', u'_id': u'1018', u'_version': 7, u'_index': u'titanic'}}, {u'index': {u'status': 200, u'_type': u'passenger', u'_id': u'1019', u'_version': 7, u'_index': u'titanic'}}, {u'index': {u'status': 200, u'_type': u'passenger', u'_id': u'1020', u'_version': 7, u'_index': u'titanic'}}, {u'index': {u'status': 200, u'_type': u'passenger', u'_id': u'1021', u'_version': 7, u'_index': u'titanic'}}, {u'index': {u'status': 200, u'_type': u'passenger', u'_id': u'1022', u'_version': 7, u'_index': u'titanic'}}, {u'index': {u'status': 200, u'_type': u'passenger', u'_id': u'1023', u'_version': 7, u'_index': u'titanic'}}, {u'index': {u'status': 200, u'_type': u'passenger', u'_id': u'1024', u'_version': 7, u'_index': u'titanic'}}, {u'index': {u'status': 200, u'_type': u'passenger', u'_id': u'1025', u'_version': 7, u'_index': u'titanic'}}, {u'index': {u'status': 200, u'_type': u'passenger', u'_id': u'1026', u'_version': 7, u'_index': u'titanic'}}, {u'index': {u'status': 200, u'_type': u'passenger', u'_id': u'1027', u'_version': 7, u'_index': u'titanic'}}, {u'index': {u'status': 200, u'_type': u'passenger', u'_id': u'1028', u'_version': 7, u'_index': u'titanic'}}, {u'index': {u'status': 200, u'_type': u'passenger', u'_id': u'1029', u'_version': 7, u'_index': u'titanic'}}, {u'index': {u'status': 200, u'_type': u'passenger', u'_id': u'1030', u'_version': 7, u'_index': u'titanic'}}, {u'index': {u'status': 200, u'_type': u'passenger', u'_id': u'1031', u'_version': 7, u'_index': u'titanic'}}, {u'index': {u'status': 200, u'_type': u'passenger', u'_id': u'1032', u'_version': 7, u'_index': u'titanic'}}, {u'index': {u'status': 200, u'_type': u'passenger', u'_id': u'1033', u'_version': 7, u'_index': u'titanic'}}, {u'index': {u'status': 200, u'_type': u'passenger', u'_id': u'1034', u'_version': 7, u'_index': u'titanic'}}, {u'index': {u'status': 200, u'_type': u'passenger', u'_id': u'1035', u'_version': 7, u'_index': u'titanic'}}, {u'index': {u'status': 200, u'_type': u'passenger', u'_id': u'1036', u'_version': 7, u'_index': u'titanic'}}, {u'index': {u'status': 200, u'_type': u'passenger', u'_id': u'1037', u'_version': 7, u'_index': u'titanic'}}, {u'index': {u'status': 200, u'_type': u'passenger', u'_id': u'1038', u'_version': 7, u'_index': u'titanic'}}, {u'index': {u'status': 200, u'_type': u'passenger', u'_id': u'1039', u'_version': 7, u'_index': u'titanic'}}, {u'index': {u'status': 200, u'_type': u'passenger', u'_id': u'1040', u'_version': 7, u'_index': u'titanic'}}, {u'index': {u'status': 200, u'_type': u'passenger', u'_id': u'1041', u'_version': 7, u'_index': u'titanic'}}, {u'index': {u'status': 200, u'_type': u'passenger', u'_id': u'1042', u'_version': 7, u'_index': u'titanic'}}, {u'index': {u'status': 200, u'_type': u'passenger', u'_id': u'1043', u'_version': 7, u'_index': u'titanic'}}, {u'index': {u'status': 200, u'_type': u'passenger', u'_id': u'1044', u'_version': 7, u'_index': u'titanic'}}, {u'index': {u'status': 200, u'_type': u'passenger', u'_id': u'1045', u'_version': 7, u'_index': u'titanic'}}, {u'index': {u'status': 200, u'_type': u'passenger', u'_id': u'1046', u'_version': 7, u'_index': u'titanic'}}, {u'index': {u'status': 200, u'_type': u'passenger', u'_id': u'1047', u'_version': 7, u'_index': u'titanic'}}, {u'index': {u'status': 200, u'_type': u'passenger', u'_id': u'1048', u'_version': 7, u'_index': u'titanic'}}, {u'index': {u'status': 200, u'_type': u'passenger', u'_id': u'1049', u'_version': 7, u'_index': u'titanic'}}, {u'index': {u'status': 200, u'_type': u'passenger', u'_id': u'1050', u'_version': 7, u'_index': u'titanic'}}, {u'index': {u'status': 200, u'_type': u'passenger', u'_id': u'1051', u'_version': 7, u'_index': u'titanic'}}, {u'index': {u'status': 200, u'_type': u'passenger', u'_id': u'1052', u'_version': 7, u'_index': u'titanic'}}, {u'index': {u'status': 200, u'_type': u'passenger', u'_id': u'1053', u'_version': 7, u'_index': u'titanic'}}, {u'index': {u'status': 200, u'_type': u'passenger', u'_id': u'1054', u'_version': 7, u'_index': u'titanic'}}, {u'index': {u'status': 200, u'_type': u'passenger', u'_id': u'1055', u'_version': 7, u'_index': u'titanic'}}, {u'index': {u'status': 200, u'_type': u'passenger', u'_id': u'1056', u'_version': 7, u'_index': u'titanic'}}, {u'index': {u'status': 200, u'_type': u'passenger', u'_id': u'1057', u'_version': 7, u'_index': u'titanic'}}, {u'index': {u'status': 200, u'_type': u'passenger', u'_id': u'1058', u'_version': 7, u'_index': u'titanic'}}, {u'index': {u'status': 200, u'_type': u'passenger', u'_id': u'1059', u'_version': 7, u'_index': u'titanic'}}, {u'index': {u'status': 200, u'_type': u'passenger', u'_id': u'1060', u'_version': 7, u'_index': u'titanic'}}, {u'index': {u'status': 200, u'_type': u'passenger', u'_id': u'1061', u'_version': 7, u'_index': u'titanic'}}, {u'index': {u'status': 200, u'_type': u'passenger', u'_id': u'1062', u'_version': 7, u'_index': u'titanic'}}, {u'index': {u'status': 200, u'_type': u'passenger', u'_id': u'1063', u'_version': 7, u'_index': u'titanic'}}, {u'index': {u'status': 200, u'_type': u'passenger', u'_id': u'1064', u'_version': 7, u'_index': u'titanic'}}, {u'index': {u'status': 200, u'_type': u'passenger', u'_id': u'1065', u'_version': 7, u'_index': u'titanic'}}, {u'index': {u'status': 200, u'_type': u'passenger', u'_id': u'1066', u'_version': 7, u'_index': u'titanic'}}, {u'index': {u'status': 200, u'_type': u'passenger', u'_id': u'1067', u'_version': 7, u'_index': u'titanic'}}, {u'index': {u'status': 200, u'_type': u'passenger', u'_id': u'1068', u'_version': 7, u'_index': u'titanic'}}, {u'index': {u'status': 200, u'_type': u'passenger', u'_id': u'1069', u'_version': 7, u'_index': u'titanic'}}, {u'index': {u'status': 200, u'_type': u'passenger', u'_id': u'1070', u'_version': 7, u'_index': u'titanic'}}, {u'index': {u'status': 200, u'_type': u'passenger', u'_id': u'1071', u'_version': 7, u'_index': u'titanic'}}, {u'index': {u'status': 200, u'_type': u'passenger', u'_id': u'1072', u'_version': 7, u'_index': u'titanic'}}, {u'index': {u'status': 200, u'_type': u'passenger', u'_id': u'1073', u'_version': 7, u'_index': u'titanic'}}, {u'index': {u'status': 200, u'_type': u'passenger', u'_id': u'1074', u'_version': 7, u'_index': u'titanic'}}, {u'index': {u'status': 200, u'_type': u'passenger', u'_id': u'1075', u'_version': 7, u'_index': u'titanic'}}, {u'index': {u'status': 200, u'_type': u'passenger', u'_id': u'1076', u'_version': 7, u'_index': u'titanic'}}, {u'index': {u'status': 200, u'_type': u'passenger', u'_id': u'1077', u'_version': 7, u'_index': u'titanic'}}, {u'index': {u'status': 200, u'_type': u'passenger', u'_id': u'1078', u'_version': 7, u'_index': u'titanic'}}, {u'index': {u'status': 200, u'_type': u'passenger', u'_id': u'1079', u'_version': 7, u'_index': u'titanic'}}, {u'index': {u'status': 200, u'_type': u'passenger', u'_id': u'1080', u'_version': 7, u'_index': u'titanic'}}, {u'index': {u'status': 200, u'_type': u'passenger', u'_id': u'1081', u'_version': 7, u'_index': u'titanic'}}, {u'index': {u'status': 200, u'_type': u'passenger', u'_id': u'1082', u'_version': 7, u'_index': u'titanic'}}, {u'index': {u'status': 200, u'_type': u'passenger', u'_id': u'1083', u'_version': 7, u'_index': u'titanic'}}, {u'index': {u'status': 200, u'_type': u'passenger', u'_id': u'1084', u'_version': 7, u'_index': u'titanic'}}, {u'index': {u'status': 200, u'_type': u'passenger', u'_id': u'1085', u'_version': 7, u'_index': u'titanic'}}, {u'index': {u'status': 200, u'_type': u'passenger', u'_id': u'1086', u'_version': 7, u'_index': u'titanic'}}, {u'index': {u'status': 200, u'_type': u'passenger', u'_id': u'1087', u'_version': 7, u'_index': u'titanic'}}, {u'index': {u'status': 200, u'_type': u'passenger', u'_id': u'1088', u'_version': 7, u'_index': u'titanic'}}, {u'index': {u'status': 200, u'_type': u'passenger', u'_id': u'1089', u'_version': 7, u'_index': u'titanic'}}, {u'index': {u'status': 200, u'_type': u'passenger', u'_id': u'1090', u'_version': 7, u'_index': u'titanic'}}, {u'index': {u'status': 200, u'_type': u'passenger', u'_id': u'1091', u'_version': 7, u'_index': u'titanic'}}, {u'index': {u'status': 200, u'_type': u'passenger', u'_id': u'1092', u'_version': 7, u'_index': u'titanic'}}, {u'index': {u'status': 200, u'_type': u'passenger', u'_id': u'1093', u'_version': 7, u'_index': u'titanic'}}, {u'index': {u'status': 200, u'_type': u'passenger', u'_id': u'1094', u'_version': 7, u'_index': u'titanic'}}, {u'index': {u'status': 200, u'_type': u'passenger', u'_id': u'1095', u'_version': 7, u'_index': u'titanic'}}, {u'index': {u'status': 200, u'_type': u'passenger', u'_id': u'1096', u'_version': 7, u'_index': u'titanic'}}, {u'index': {u'status': 200, u'_type': u'passenger', u'_id': u'1097', u'_version': 7, u'_index': u'titanic'}}, {u'index': {u'status': 200, u'_type': u'passenger', u'_id': u'1098', u'_version': 7, u'_index': u'titanic'}}, {u'index': {u'status': 200, u'_type': u'passenger', u'_id': u'1099', u'_version': 7, u'_index': u'titanic'}}, {u'index': {u'status': 200, u'_type': u'passenger', u'_id': u'1100', u'_version': 7, u'_index': u'titanic'}}, {u'index': {u'status': 200, u'_type': u'passenger', u'_id': u'1101', u'_version': 7, u'_index': u'titanic'}}, {u'index': {u'status': 200, u'_type': u'passenger', u'_id': u'1102', u'_version': 7, u'_index': u'titanic'}}, {u'index': {u'status': 200, u'_type': u'passenger', u'_id': u'1103', u'_version': 7, u'_index': u'titanic'}}, {u'index': {u'status': 200, u'_type': u'passenger', u'_id': u'1104', u'_version': 7, u'_index': u'titanic'}}, {u'index': {u'status': 200, u'_type': u'passenger', u'_id': u'1105', u'_version': 7, u'_index': u'titanic'}}, {u'index': {u'status': 200, u'_type': u'passenger', u'_id': u'1106', u'_version': 7, u'_index': u'titanic'}}, {u'index': {u'status': 200, u'_type': u'passenger', u'_id': u'1107', u'_version': 7, u'_index': u'titanic'}}, {u'index': {u'status': 200, u'_type': u'passenger', u'_id': u'1108', u'_version': 7, u'_index': u'titanic'}}, {u'index': {u'status': 200, u'_type': u'passenger', u'_id': u'1109', u'_version': 7, u'_index': u'titanic'}}, {u'index': {u'status': 200, u'_type': u'passenger', u'_id': u'1110', u'_version': 7, u'_index': u'titanic'}}, {u'index': {u'status': 200, u'_type': u'passenger', u'_id': u'1111', u'_version': 7, u'_index': u'titanic'}}, {u'index': {u'status': 200, u'_type': u'passenger', u'_id': u'1112', u'_version': 7, u'_index': u'titanic'}}, {u'index': {u'status': 200, u'_type': u'passenger', u'_id': u'1113', u'_version': 7, u'_index': u'titanic'}}, {u'index': {u'status': 200, u'_type': u'passenger', u'_id': u'1114', u'_version': 7, u'_index': u'titanic'}}, {u'index': {u'status': 200, u'_type': u'passenger', u'_id': u'1115', u'_version': 7, u'_index': u'titanic'}}, {u'index': {u'status': 200, u'_type': u'passenger', u'_id': u'1116', u'_version': 7, u'_index': u'titanic'}}, {u'index': {u'status': 200, u'_type': u'passenger', u'_id': u'1117', u'_version': 7, u'_index': u'titanic'}}, {u'index': {u'status': 200, u'_type': u'passenger', u'_id': u'1118', u'_version': 7, u'_index': u'titanic'}}, {u'index': {u'status': 200, u'_type': u'passenger', u'_id': u'1119', u'_version': 7, u'_index': u'titanic'}}, {u'index': {u'status': 200, u'_type': u'passenger', u'_id': u'1120', u'_version': 7, u'_index': u'titanic'}}, {u'index': {u'status': 200, u'_type': u'passenger', u'_id': u'1121', u'_version': 7, u'_index': u'titanic'}}, {u'index': {u'status': 200, u'_type': u'passenger', u'_id': u'1122', u'_version': 7, u'_index': u'titanic'}}, {u'index': {u'status': 200, u'_type': u'passenger', u'_id': u'1123', u'_version': 7, u'_index': u'titanic'}}, {u'index': {u'status': 200, u'_type': u'passenger', u'_id': u'1124', u'_version': 7, u'_index': u'titanic'}}, {u'index': {u'status': 200, u'_type': u'passenger', u'_id': u'1125', u'_version': 7, u'_index': u'titanic'}}, {u'index': {u'status': 200, u'_type': u'passenger', u'_id': u'1126', u'_version': 7, u'_index': u'titanic'}}, {u'index': {u'status': 200, u'_type': u'passenger', u'_id': u'1127', u'_version': 7, u'_index': u'titanic'}}, {u'index': {u'status': 200, u'_type': u'passenger', u'_id': u'1128', u'_version': 7, u'_index': u'titanic'}}, {u'index': {u'status': 200, u'_type': u'passenger', u'_id': u'1129', u'_version': 7, u'_index': u'titanic'}}, {u'index': {u'status': 200, u'_type': u'passenger', u'_id': u'1130', u'_version': 7, u'_index': u'titanic'}}, {u'index': {u'status': 200, u'_type': u'passenger', u'_id': u'1131', u'_version': 7, u'_index': u'titanic'}}, {u'index': {u'status': 200, u'_type': u'passenger', u'_id': u'1132', u'_version': 7, u'_index': u'titanic'}}, {u'index': {u'status': 200, u'_type': u'passenger', u'_id': u'1133', u'_version': 7, u'_index': u'titanic'}}, {u'index': {u'status': 200, u'_type': u'passenger', u'_id': u'1134', u'_version': 7, u'_index': u'titanic'}}, {u'index': {u'status': 200, u'_type': u'passenger', u'_id': u'1135', u'_version': 7, u'_index': u'titanic'}}, {u'index': {u'status': 200, u'_type': u'passenger', u'_id': u'1136', u'_version': 7, u'_index': u'titanic'}}, {u'index': {u'status': 200, u'_type': u'passenger', u'_id': u'1137', u'_version': 7, u'_index': u'titanic'}}, {u'index': {u'status': 200, u'_type': u'passenger', u'_id': u'1138', u'_version': 7, u'_index': u'titanic'}}, {u'index': {u'status': 200, u'_type': u'passenger', u'_id': u'1139', u'_version': 7, u'_index': u'titanic'}}, {u'index': {u'status': 200, u'_type': u'passenger', u'_id': u'1140', u'_version': 7, u'_index': u'titanic'}}, {u'index': {u'status': 200, u'_type': u'passenger', u'_id': u'1141', u'_version': 7, u'_index': u'titanic'}}, {u'index': {u'status': 200, u'_type': u'passenger', u'_id': u'1142', u'_version': 7, u'_index': u'titanic'}}, {u'index': {u'status': 200, u'_type': u'passenger', u'_id': u'1143', u'_version': 7, u'_index': u'titanic'}}, {u'index': {u'status': 200, u'_type': u'passenger', u'_id': u'1144', u'_version': 7, u'_index': u'titanic'}}, {u'index': {u'status': 200, u'_type': u'passenger', u'_id': u'1145', u'_version': 7, u'_index': u'titanic'}}, {u'index': {u'status': 200, u'_type': u'passenger', u'_id': u'1146', u'_version': 7, u'_index': u'titanic'}}, {u'index': {u'status': 200, u'_type': u'passenger', u'_id': u'1147', u'_version': 7, u'_index': u'titanic'}}, {u'index': {u'status': 200, u'_type': u'passenger', u'_id': u'1148', u'_version': 7, u'_index': u'titanic'}}, {u'index': {u'status': 200, u'_type': u'passenger', u'_id': u'1149', u'_version': 7, u'_index': u'titanic'}}, {u'index': {u'status': 200, u'_type': u'passenger', u'_id': u'1150', u'_version': 7, u'_index': u'titanic'}}, {u'index': {u'status': 200, u'_type': u'passenger', u'_id': u'1151', u'_version': 7, u'_index': u'titanic'}}, {u'index': {u'status': 200, u'_type': u'passenger', u'_id': u'1152', u'_version': 7, u'_index': u'titanic'}}, {u'index': {u'status': 200, u'_type': u'passenger', u'_id': u'1153', u'_version': 7, u'_index': u'titanic'}}, {u'index': {u'status': 200, u'_type': u'passenger', u'_id': u'1154', u'_version': 7, u'_index': u'titanic'}}, {u'index': {u'status': 200, u'_type': u'passenger', u'_id': u'1155', u'_version': 7, u'_index': u'titanic'}}, {u'index': {u'status': 200, u'_type': u'passenger', u'_id': u'1156', u'_version': 7, u'_index': u'titanic'}}, {u'index': {u'status': 200, u'_type': u'passenger', u'_id': u'1157', u'_version': 7, u'_index': u'titanic'}}, {u'index': {u'status': 200, u'_type': u'passenger', u'_id': u'1158', u'_version': 7, u'_index': u'titanic'}}, {u'index': {u'status': 200, u'_type': u'passenger', u'_id': u'1159', u'_version': 7, u'_index': u'titanic'}}, {u'index': {u'status': 200, u'_type': u'passenger', u'_id': u'1160', u'_version': 7, u'_index': u'titanic'}}, {u'index': {u'status': 200, u'_type': u'passenger', u'_id': u'1161', u'_version': 7, u'_index': u'titanic'}}, {u'index': {u'status': 200, u'_type': u'passenger', u'_id': u'1162', u'_version': 7, u'_index': u'titanic'}}, {u'index': {u'status': 200, u'_type': u'passenger', u'_id': u'1163', u'_version': 7, u'_index': u'titanic'}}, {u'index': {u'status': 200, u'_type': u'passenger', u'_id': u'1164', u'_version': 7, u'_index': u'titanic'}}, {u'index': {u'status': 200, u'_type': u'passenger', u'_id': u'1165', u'_version': 7, u'_index': u'titanic'}}, {u'index': {u'status': 200, u'_type': u'passenger', u'_id': u'1166', u'_version': 7, u'_index': u'titanic'}}, {u'index': {u'status': 200, u'_type': u'passenger', u'_id': u'1167', u'_version': 7, u'_index': u'titanic'}}, {u'index': {u'status': 200, u'_type': u'passenger', u'_id': u'1168', u'_version': 7, u'_index': u'titanic'}}, {u'index': {u'status': 200, u'_type': u'passenger', u'_id': u'1169', u'_version': 7, u'_index': u'titanic'}}, {u'index': {u'status': 200, u'_type': u'passenger', u'_id': u'1170', u'_version': 7, u'_index': u'titanic'}}, {u'index': {u'status': 200, u'_type': u'passenger', u'_id': u'1171', u'_version': 7, u'_index': u'titanic'}}, {u'index': {u'status': 200, u'_type': u'passenger', u'_id': u'1172', u'_version': 7, u'_index': u'titanic'}}, {u'index': {u'status': 200, u'_type': u'passenger', u'_id': u'1173', u'_version': 7, u'_index': u'titanic'}}, {u'index': {u'status': 200, u'_type': u'passenger', u'_id': u'1174', u'_version': 7, u'_index': u'titanic'}}, {u'index': {u'status': 200, u'_type': u'passenger', u'_id': u'1175', u'_version': 7, u'_index': u'titanic'}}, {u'index': {u'status': 200, u'_type': u'passenger', u'_id': u'1176', u'_version': 7, u'_index': u'titanic'}}, {u'index': {u'status': 200, u'_type': u'passenger', u'_id': u'1177', u'_version': 7, u'_index': u'titanic'}}, {u'index': {u'status': 200, u'_type': u'passenger', u'_id': u'1178', u'_version': 7, u'_index': u'titanic'}}, {u'index': {u'status': 200, u'_type': u'passenger', u'_id': u'1179', u'_version': 7, u'_index': u'titanic'}}, {u'index': {u'status': 200, u'_type': u'passenger', u'_id': u'1180', u'_version': 7, u'_index': u'titanic'}}, {u'index': {u'status': 200, u'_type': u'passenger', u'_id': u'1181', u'_version': 7, u'_index': u'titanic'}}, {u'index': {u'status': 200, u'_type': u'passenger', u'_id': u'1182', u'_version': 7, u'_index': u'titanic'}}, {u'index': {u'status': 200, u'_type': u'passenger', u'_id': u'1183', u'_version': 7, u'_index': u'titanic'}}, {u'index': {u'status': 200, u'_type': u'passenger', u'_id': u'1184', u'_version': 7, u'_index': u'titanic'}}, {u'index': {u'status': 200, u'_type': u'passenger', u'_id': u'1185', u'_version': 7, u'_index': u'titanic'}}, {u'index': {u'status': 200, u'_type': u'passenger', u'_id': u'1186', u'_version': 7, u'_index': u'titanic'}}, {u'index': {u'status': 200, u'_type': u'passenger', u'_id': u'1187', u'_version': 7, u'_index': u'titanic'}}, {u'index': {u'status': 200, u'_type': u'passenger', u'_id': u'1188', u'_version': 7, u'_index': u'titanic'}}, {u'index': {u'status': 200, u'_type': u'passenger', u'_id': u'1189', u'_version': 7, u'_index': u'titanic'}}, {u'index': {u'status': 200, u'_type': u'passenger', u'_id': u'1190', u'_version': 7, u'_index': u'titanic'}}, {u'index': {u'status': 200, u'_type': u'passenger', u'_id': u'1191', u'_version': 7, u'_index': u'titanic'}}, {u'index': {u'status': 200, u'_type': u'passenger', u'_id': u'1192', u'_version': 7, u'_index': u'titanic'}}, {u'index': {u'status': 200, u'_type': u'passenger', u'_id': u'1193', u'_version': 7, u'_index': u'titanic'}}, {u'index': {u'status': 200, u'_type': u'passenger', u'_id': u'1194', u'_version': 7, u'_index': u'titanic'}}, {u'index': {u'status': 200, u'_type': u'passenger', u'_id': u'1195', u'_version': 7, u'_index': u'titanic'}}, {u'index': {u'status': 200, u'_type': u'passenger', u'_id': u'1196', u'_version': 7, u'_index': u'titanic'}}, {u'index': {u'status': 200, u'_type': u'passenger', u'_id': u'1197', u'_version': 7, u'_index': u'titanic'}}, {u'index': {u'status': 200, u'_type': u'passenger', u'_id': u'1198', u'_version': 7, u'_index': u'titanic'}}, {u'index': {u'status': 200, u'_type': u'passenger', u'_id': u'1199', u'_version': 7, u'_index': u'titanic'}}, {u'index': {u'status': 200, u'_type': u'passenger', u'_id': u'1200', u'_version': 7, u'_index': u'titanic'}}, {u'index': {u'status': 200, u'_type': u'passenger', u'_id': u'1201', u'_version': 7, u'_index': u'titanic'}}, {u'index': {u'status': 200, u'_type': u'passenger', u'_id': u'1202', u'_version': 7, u'_index': u'titanic'}}, {u'index': {u'status': 200, u'_type': u'passenger', u'_id': u'1203', u'_version': 7, u'_index': u'titanic'}}, {u'index': {u'status': 200, u'_type': u'passenger', u'_id': u'1204', u'_version': 7, u'_index': u'titanic'}}, {u'index': {u'status': 200, u'_type': u'passenger', u'_id': u'1205', u'_version': 7, u'_index': u'titanic'}}, {u'index': {u'status': 200, u'_type': u'passenger', u'_id': u'1206', u'_version': 7, u'_index': u'titanic'}}, {u'index': {u'status': 200, u'_type': u'passenger', u'_id': u'1207', u'_version': 7, u'_index': u'titanic'}}, {u'index': {u'status': 200, u'_type': u'passenger', u'_id': u'1208', u'_version': 7, u'_index': u'titanic'}}, {u'index': {u'status': 200, u'_type': u'passenger', u'_id': u'1209', u'_version': 7, u'_index': u'titanic'}}, {u'index': {u'status': 200, u'_type': u'passenger', u'_id': u'1210', u'_version': 7, u'_index': u'titanic'}}, {u'index': {u'status': 200, u'_type': u'passenger', u'_id': u'1211', u'_version': 7, u'_index': u'titanic'}}, {u'index': {u'status': 200, u'_type': u'passenger', u'_id': u'1212', u'_version': 7, u'_index': u'titanic'}}, {u'index': {u'status': 200, u'_type': u'passenger', u'_id': u'1213', u'_version': 7, u'_index': u'titanic'}}, {u'index': {u'status': 200, u'_type': u'passenger', u'_id': u'1214', u'_version': 7, u'_index': u'titanic'}}, {u'index': {u'status': 200, u'_type': u'passenger', u'_id': u'1215', u'_version': 7, u'_index': u'titanic'}}, {u'index': {u'status': 200, u'_type': u'passenger', u'_id': u'1216', u'_version': 7, u'_index': u'titanic'}}, {u'index': {u'status': 200, u'_type': u'passenger', u'_id': u'1217', u'_version': 7, u'_index': u'titanic'}}, {u'index': {u'status': 200, u'_type': u'passenger', u'_id': u'1218', u'_version': 7, u'_index': u'titanic'}}, {u'index': {u'status': 200, u'_type': u'passenger', u'_id': u'1219', u'_version': 7, u'_index': u'titanic'}}, {u'index': {u'status': 200, u'_type': u'passenger', u'_id': u'1220', u'_version': 7, u'_index': u'titanic'}}, {u'index': {u'status': 200, u'_type': u'passenger', u'_id': u'1221', u'_version': 7, u'_index': u'titanic'}}, {u'index': {u'status': 200, u'_type': u'passenger', u'_id': u'1222', u'_version': 7, u'_index': u'titanic'}}, {u'index': {u'status': 200, u'_type': u'passenger', u'_id': u'1223', u'_version': 7, u'_index': u'titanic'}}, {u'index': {u'status': 200, u'_type': u'passenger', u'_id': u'1224', u'_version': 7, u'_index': u'titanic'}}, {u'index': {u'status': 200, u'_type': u'passenger', u'_id': u'1225', u'_version': 7, u'_index': u'titanic'}}, {u'index': {u'status': 200, u'_type': u'passenger', u'_id': u'1226', u'_version': 7, u'_index': u'titanic'}}, {u'index': {u'status': 200, u'_type': u'passenger', u'_id': u'1227', u'_version': 7, u'_index': u'titanic'}}, {u'index': {u'status': 200, u'_type': u'passenger', u'_id': u'1228', u'_version': 7, u'_index': u'titanic'}}, {u'index': {u'status': 200, u'_type': u'passenger', u'_id': u'1229', u'_version': 7, u'_index': u'titanic'}}, {u'index': {u'status': 200, u'_type': u'passenger', u'_id': u'1230', u'_version': 7, u'_index': u'titanic'}}, {u'index': {u'status': 200, u'_type': u'passenger', u'_id': u'1231', u'_version': 7, u'_index': u'titanic'}}, {u'index': {u'status': 200, u'_type': u'passenger', u'_id': u'1232', u'_version': 7, u'_index': u'titanic'}}, {u'index': {u'status': 200, u'_type': u'passenger', u'_id': u'1233', u'_version': 7, u'_index': u'titanic'}}, {u'index': {u'status': 200, u'_type': u'passenger', u'_id': u'1234', u'_version': 7, u'_index': u'titanic'}}, {u'index': {u'status': 200, u'_type': u'passenger', u'_id': u'1235', u'_version': 7, u'_index': u'titanic'}}, {u'index': {u'status': 200, u'_type': u'passenger', u'_id': u'1236', u'_version': 7, u'_index': u'titanic'}}, {u'index': {u'status': 200, u'_type': u'passenger', u'_id': u'1237', u'_version': 7, u'_index': u'titanic'}}, {u'index': {u'status': 200, u'_type': u'passenger', u'_id': u'1238', u'_version': 7, u'_index': u'titanic'}}, {u'index': {u'status': 200, u'_type': u'passenger', u'_id': u'1239', u'_version': 7, u'_index': u'titanic'}}, {u'index': {u'status': 200, u'_type': u'passenger', u'_id': u'1240', u'_version': 7, u'_index': u'titanic'}}, {u'index': {u'status': 200, u'_type': u'passenger', u'_id': u'1241', u'_version': 7, u'_index': u'titanic'}}, {u'index': {u'status': 200, u'_type': u'passenger', u'_id': u'1242', u'_version': 7, u'_index': u'titanic'}}, {u'index': {u'status': 200, u'_type': u'passenger', u'_id': u'1243', u'_version': 7, u'_index': u'titanic'}}, {u'index': {u'status': 200, u'_type': u'passenger', u'_id': u'1244', u'_version': 7, u'_index': u'titanic'}}, {u'index': {u'status': 200, u'_type': u'passenger', u'_id': u'1245', u'_version': 7, u'_index': u'titanic'}}, {u'index': {u'status': 200, u'_type': u'passenger', u'_id': u'1246', u'_version': 7, u'_index': u'titanic'}}, {u'index': {u'status': 200, u'_type': u'passenger', u'_id': u'1247', u'_version': 7, u'_index': u'titanic'}}, {u'index': {u'status': 200, u'_type': u'passenger', u'_id': u'1248', u'_version': 7, u'_index': u'titanic'}}, {u'index': {u'status': 200, u'_type': u'passenger', u'_id': u'1249', u'_version': 7, u'_index': u'titanic'}}, {u'index': {u'status': 200, u'_type': u'passenger', u'_id': u'1250', u'_version': 7, u'_index': u'titanic'}}, {u'index': {u'status': 200, u'_type': u'passenger', u'_id': u'1251', u'_version': 7, u'_index': u'titanic'}}, {u'index': {u'status': 200, u'_type': u'passenger', u'_id': u'1252', u'_version': 7, u'_index': u'titanic'}}, {u'index': {u'status': 200, u'_type': u'passenger', u'_id': u'1253', u'_version': 7, u'_index': u'titanic'}}, {u'index': {u'status': 200, u'_type': u'passenger', u'_id': u'1254', u'_version': 7, u'_index': u'titanic'}}, {u'index': {u'status': 200, u'_type': u'passenger', u'_id': u'1255', u'_version': 7, u'_index': u'titanic'}}, {u'index': {u'status': 200, u'_type': u'passenger', u'_id': u'1256', u'_version': 7, u'_index': u'titanic'}}, {u'index': {u'status': 200, u'_type': u'passenger', u'_id': u'1257', u'_version': 7, u'_index': u'titanic'}}, {u'index': {u'status': 200, u'_type': u'passenger', u'_id': u'1258', u'_version': 7, u'_index': u'titanic'}}, {u'index': {u'status': 200, u'_type': u'passenger', u'_id': u'1259', u'_version': 7, u'_index': u'titanic'}}, {u'index': {u'status': 200, u'_type': u'passenger', u'_id': u'1260', u'_version': 7, u'_index': u'titanic'}}, {u'index': {u'status': 200, u'_type': u'passenger', u'_id': u'1261', u'_version': 7, u'_index': u'titanic'}}, {u'index': {u'status': 200, u'_type': u'passenger', u'_id': u'1262', u'_version': 7, u'_index': u'titanic'}}, {u'index': {u'status': 200, u'_type': u'passenger', u'_id': u'1263', u'_version': 7, u'_index': u'titanic'}}, {u'index': {u'status': 200, u'_type': u'passenger', u'_id': u'1264', u'_version': 7, u'_index': u'titanic'}}, {u'index': {u'status': 200, u'_type': u'passenger', u'_id': u'1265', u'_version': 7, u'_index': u'titanic'}}, {u'index': {u'status': 200, u'_type': u'passenger', u'_id': u'1266', u'_version': 7, u'_index': u'titanic'}}, {u'index': {u'status': 200, u'_type': u'passenger', u'_id': u'1267', u'_version': 7, u'_index': u'titanic'}}, {u'index': {u'status': 200, u'_type': u'passenger', u'_id': u'1268', u'_version': 7, u'_index': u'titanic'}}, {u'index': {u'status': 200, u'_type': u'passenger', u'_id': u'1269', u'_version': 7, u'_index': u'titanic'}}, {u'index': {u'status': 200, u'_type': u'passenger', u'_id': u'1270', u'_version': 7, u'_index': u'titanic'}}, {u'index': {u'status': 200, u'_type': u'passenger', u'_id': u'1271', u'_version': 7, u'_index': u'titanic'}}, {u'index': {u'status': 200, u'_type': u'passenger', u'_id': u'1272', u'_version': 7, u'_index': u'titanic'}}, {u'index': {u'status': 200, u'_type': u'passenger', u'_id': u'1273', u'_version': 7, u'_index': u'titanic'}}, {u'index': {u'status': 200, u'_type': u'passenger', u'_id': u'1274', u'_version': 7, u'_index': u'titanic'}}, {u'index': {u'status': 200, u'_type': u'passenger', u'_id': u'1275', u'_version': 7, u'_index': u'titanic'}}, {u'index': {u'status': 200, u'_type': u'passenger', u'_id': u'1276', u'_version': 7, u'_index': u'titanic'}}, {u'index': {u'status': 200, u'_type': u'passenger', u'_id': u'1277', u'_version': 7, u'_index': u'titanic'}}, {u'index': {u'status': 200, u'_type': u'passenger', u'_id': u'1278', u'_version': 7, u'_index': u'titanic'}}, {u'index': {u'status': 200, u'_type': u'passenger', u'_id': u'1279', u'_version': 7, u'_index': u'titanic'}}, {u'index': {u'status': 200, u'_type': u'passenger', u'_id': u'1280', u'_version': 7, u'_index': u'titanic'}}, {u'index': {u'status': 200, u'_type': u'passenger', u'_id': u'1281', u'_version': 7, u'_index': u'titanic'}}, {u'index': {u'status': 200, u'_type': u'passenger', u'_id': u'1282', u'_version': 7, u'_index': u'titanic'}}, {u'index': {u'status': 200, u'_type': u'passenger', u'_id': u'1283', u'_version': 7, u'_index': u'titanic'}}, {u'index': {u'status': 200, u'_type': u'passenger', u'_id': u'1284', u'_version': 7, u'_index': u'titanic'}}, {u'index': {u'status': 200, u'_type': u'passenger', u'_id': u'1285', u'_version': 7, u'_index': u'titanic'}}, {u'index': {u'status': 200, u'_type': u'passenger', u'_id': u'1286', u'_version': 7, u'_index': u'titanic'}}, {u'index': {u'status': 200, u'_type': u'passenger', u'_id': u'1287', u'_version': 7, u'_index': u'titanic'}}, {u'index': {u'status': 200, u'_type': u'passenger', u'_id': u'1288', u'_version': 7, u'_index': u'titanic'}}, {u'index': {u'status': 200, u'_type': u'passenger', u'_id': u'1289', u'_version': 7, u'_index': u'titanic'}}, {u'index': {u'status': 200, u'_type': u'passenger', u'_id': u'1290', u'_version': 7, u'_index': u'titanic'}}, {u'index': {u'status': 200, u'_type': u'passenger', u'_id': u'1291', u'_version': 7, u'_index': u'titanic'}}, {u'index': {u'status': 200, u'_type': u'passenger', u'_id': u'1292', u'_version': 7, u'_index': u'titanic'}}, {u'index': {u'status': 200, u'_type': u'passenger', u'_id': u'1293', u'_version': 7, u'_index': u'titanic'}}, {u'index': {u'status': 200, u'_type': u'passenger', u'_id': u'1294', u'_version': 7, u'_index': u'titanic'}}, {u'index': {u'status': 200, u'_type': u'passenger', u'_id': u'1295', u'_version': 7, u'_index': u'titanic'}}, {u'index': {u'status': 200, u'_type': u'passenger', u'_id': u'1296', u'_version': 7, u'_index': u'titanic'}}, {u'index': {u'status': 200, u'_type': u'passenger', u'_id': u'1297', u'_version': 7, u'_index': u'titanic'}}, {u'index': {u'status': 200, u'_type': u'passenger', u'_id': u'1298', u'_version': 7, u'_index': u'titanic'}}, {u'index': {u'status': 200, u'_type': u'passenger', u'_id': u'1299', u'_version': 7, u'_index': u'titanic'}}, {u'index': {u'status': 200, u'_type': u'passenger', u'_id': u'1300', u'_version': 7, u'_index': u'titanic'}}, {u'index': {u'status': 200, u'_type': u'passenger', u'_id': u'1301', u'_version': 7, u'_index': u'titanic'}}, {u'index': {u'status': 200, u'_type': u'passenger', u'_id': u'1302', u'_version': 7, u'_index': u'titanic'}}, {u'index': {u'status': 200, u'_type': u'passenger', u'_id': u'1303', u'_version': 7, u'_index': u'titanic'}}, {u'index': {u'status': 200, u'_type': u'passenger', u'_id': u'1304', u'_version': 7, u'_index': u'titanic'}}, {u'index': {u'status': 200, u'_type': u'passenger', u'_id': u'1305', u'_version': 7, u'_index': u'titanic'}}, {u'index': {u'status': 200, u'_type': u'passenger', u'_id': u'1306', u'_version': 7, u'_index': u'titanic'}}, {u'index': {u'status': 200, u'_type': u'passenger', u'_id': u'1307', u'_version': 7, u'_index': u'titanic'}}, {u'index': {u'status': 200, u'_type': u'passenger', u'_id': u'1308', u'_version': 7, u'_index': u'titanic'}}, {u'index': {u'status': 200, u'_type': u'passenger', u'_id': u'1309', u'_version': 7, u'_index': u'titanic'}}], u'errors': False, u'took': 66}\n"
       ]
      }
     ],
     "prompt_number": 242
    },
    {
     "cell_type": "code",
     "collapsed": false,
     "input": [
      "es.search( index = index_name, size  = 2,\n",
      "           body  = {\n",
      "                    \"query\": {\n",
      "                    \"match\": { \"sex\" : \"male\" }\n",
      "                          }\n",
      "                        }\n",
      "                     )"
     ],
     "language": "python",
     "metadata": {},
     "outputs": [
      {
       "metadata": {},
       "output_type": "pyout",
       "prompt_number": 248,
       "text": [
        "{u'_shards': {u'failed': 0, u'successful': 1, u'total': 1},\n",
        " u'hits': {u'hits': [{u'_id': u'892',\n",
        "    u'_index': u'titanic',\n",
        "    u'_score': 1.4482328,\n",
        "    u'_source': {u'age': 34.5,\n",
        "     u'embarked': u'Q',\n",
        "     u'fare': 7.8292,\n",
        "     u'name': u'Kelly, Mr. James',\n",
        "     u'parch': 0,\n",
        "     u'passengerid': 892,\n",
        "     u'pclass': 3,\n",
        "     u'sex': u'male',\n",
        "     u'sibsp': 0,\n",
        "     u'ticket': u'330911'},\n",
        "    u'_type': u'passenger'},\n",
        "   {u'_id': u'894',\n",
        "    u'_index': u'titanic',\n",
        "    u'_score': 1.4482328,\n",
        "    u'_source': {u'age': 62.0,\n",
        "     u'embarked': u'Q',\n",
        "     u'fare': 9.6875,\n",
        "     u'name': u'Myles, Mr. Thomas Francis',\n",
        "     u'parch': 0,\n",
        "     u'passengerid': 894,\n",
        "     u'pclass': 2,\n",
        "     u'sex': u'male',\n",
        "     u'sibsp': 0,\n",
        "     u'ticket': u'240276'},\n",
        "    u'_type': u'passenger'}],\n",
        "  u'max_score': 1.4482328,\n",
        "  u'total': 266},\n",
        " u'timed_out': False,\n",
        " u'took': 16}"
       ]
      }
     ],
     "prompt_number": 248
    },
    {
     "cell_type": "heading",
     "level": 3,
     "metadata": {},
     "source": [
      "And Now You Can Open Up Kibana And Perform \"Google-like\" Searches On This Data Set While Visualizing the Data"
     ]
    }
   ],
   "metadata": {}
  }
 ]
}