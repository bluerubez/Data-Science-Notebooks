{
 "metadata": {
  "name": "",
  "signature": "sha256:97e4ec9cefe9af3913963e2c65b8f6481a0e922a0969a2bc5080a8177add7084"
 },
 "nbformat": 3,
 "nbformat_minor": 0,
 "worksheets": [
  {
   "cells": [
    {
     "cell_type": "code",
     "collapsed": false,
     "input": [
      "!head P00000001-ALL.csv"
     ],
     "language": "python",
     "metadata": {},
     "outputs": [
      {
       "output_type": "stream",
       "stream": "stdout",
       "text": [
        "cmte_id,cand_id,cand_nm,contbr_nm,contbr_city,contbr_st,contbr_zip,contbr_employer,contbr_occupation,contb_receipt_amt,contb_receipt_dt,receipt_desc,memo_cd,memo_text,form_tp,file_num,tran_id,election_tp\r\n",
        "C00410118,\"P20002978\",\"Bachmann, Michele\",\"HARVEY, WILLIAM\",\"MOBILE\",\"AL\",\"366010290\",\"RETIRED\",\"RETIRED\",250,20-JUN-11,\"\",\"\",\"\",\"SA17A\",\"736166\",\"A1FDABC23D2D545A1B83\",\"P2012\",\r\n",
        "C00410118,\"P20002978\",\"Bachmann, Michele\",\"HARVEY, WILLIAM\",\"MOBILE\",\"AL\",\"366010290\",\"RETIRED\",\"RETIRED\",50,23-JUN-11,\"\",\"\",\"\",\"SA17A\",\"736166\",\"A899B9B0E223743EFA63\",\"P2012\",\r\n",
        "C00410118,\"P20002978\",\"Bachmann, Michele\",\"SMITH, LANIER\",\"LANETT\",\"AL\",\"368633403\",\"INFORMATION REQUESTED\",\"INFORMATION REQUESTED\",250,05-JUL-11,\"\",\"\",\"\",\"SA17A\",\"749073\",\"A4B144E3CB3294ABC9D6\",\"P2012\",\r\n",
        "C00410118,\"P20002978\",\"Bachmann, Michele\",\"BLEVINS, DARONDA\",\"PIGGOTT\",\"AR\",\"724548253\",\"NONE\",\"RETIRED\",250,01-AUG-11,\"\",\"\",\"\",\"SA17A\",\"749073\",\"A8C7C6F55B0914C5A880\",\"P2012\",\r\n",
        "C00410118,\"P20002978\",\"Bachmann, Michele\",\"WARDENBURG, HAROLD\",\"HOT SPRINGS NATION\",\"AR\",\"719016467\",\"NONE\",\"RETIRED\",300,20-JUN-11,\"\",\"\",\"\",\"SA17A\",\"736166\",\"A070D6D560BD84AA98AC\",\"P2012\",\r\n",
        "C00410118,\"P20002978\",\"Bachmann, Michele\",\"BECKMAN, JAMES\",\"SPRINGDALE\",\"AR\",\"727647190\",\"NONE\",\"RETIRED\",500,23-JUN-11,\"\",\"\",\"\",\"SA17A\",\"736166\",\"A2DE22E18E05247F094F\",\"P2012\",\r\n",
        "C00410118,\"P20002978\",\"Bachmann, Michele\",\"BLEVINS, DARONDA\",\"PIGGOTT\",\"AR\",\"724548253\",\"INFORMATION REQUESTED\",\"INFORMATION REQUESTED\",250,21-JUN-11,\"\",\"\",\"\",\"SA17A\",\"736166\",\"A171DC487BA6A480F805\",\"P2012\",\r\n",
        "C00410118,\"P20002978\",\"Bachmann, Michele\",\"BLEVINS, DARONDA\",\"PIGGOTT\",\"AR\",\"724548253\",\"NONE\",\"RETIRED\",250,05-JUL-11,\"\",\"\",\"\",\"SA17A\",\"749073\",\"AF1C59BEDCB5F42E0936\",\"P2012\",\r\n",
        "C00410118,\"P20002978\",\"Bachmann, Michele\",\"COLLINS, SARAH\",\"MESA\",\"AZ\",\"852106725\",\"ST. JOSEPH HOSPITAL\",\"RN\",250,21-JUN-11,\"\",\"\",\"\",\"SA17A\",\"736166\",\"A39A61008E2AD4F599E0\",\"P2012\",\r\n"
       ]
      }
     ],
     "prompt_number": 1
    },
    {
     "cell_type": "code",
     "collapsed": false,
     "input": [
      "import pandas as pd\n",
      "import warnings\n",
      "warnings.filterwarnings('ignore')\n",
      "elect = pd.read_csv('P00000001-ALL.csv')"
     ],
     "language": "python",
     "metadata": {},
     "outputs": [],
     "prompt_number": 2
    },
    {
     "cell_type": "code",
     "collapsed": false,
     "input": [
      "elect.describe()"
     ],
     "language": "python",
     "metadata": {},
     "outputs": [
      {
       "html": [
        "<div style=\"max-height:1000px;max-width:1500px;overflow:auto;\">\n",
        "<table border=\"1\" class=\"dataframe\">\n",
        "  <thead>\n",
        "    <tr style=\"text-align: right;\">\n",
        "      <th></th>\n",
        "      <th>contbr_occupation</th>\n",
        "      <th>form_tp</th>\n",
        "      <th>election_tp</th>\n",
        "    </tr>\n",
        "  </thead>\n",
        "  <tbody>\n",
        "    <tr>\n",
        "      <th>count</th>\n",
        "      <td>  5349937.000000</td>\n",
        "      <td> 5349937.000000</td>\n",
        "      <td>  0</td>\n",
        "    </tr>\n",
        "    <tr>\n",
        "      <th>mean</th>\n",
        "      <td>      191.388611</td>\n",
        "      <td>  880796.640100</td>\n",
        "      <td>NaN</td>\n",
        "    </tr>\n",
        "    <tr>\n",
        "      <th>std</th>\n",
        "      <td>     9510.888126</td>\n",
        "      <td>   36366.027263</td>\n",
        "      <td>NaN</td>\n",
        "    </tr>\n",
        "    <tr>\n",
        "      <th>min</th>\n",
        "      <td>   -60800.000000</td>\n",
        "      <td>  723511.000000</td>\n",
        "      <td>NaN</td>\n",
        "    </tr>\n",
        "    <tr>\n",
        "      <th>25%</th>\n",
        "      <td>       25.000000</td>\n",
        "      <td>  876050.000000</td>\n",
        "      <td>NaN</td>\n",
        "    </tr>\n",
        "    <tr>\n",
        "      <th>50%</th>\n",
        "      <td>       50.000000</td>\n",
        "      <td>  896848.000000</td>\n",
        "      <td>NaN</td>\n",
        "    </tr>\n",
        "    <tr>\n",
        "      <th>75%</th>\n",
        "      <td>      100.000000</td>\n",
        "      <td>  897086.000000</td>\n",
        "      <td>NaN</td>\n",
        "    </tr>\n",
        "    <tr>\n",
        "      <th>max</th>\n",
        "      <td> 16387179.200000</td>\n",
        "      <td>  921960.000000</td>\n",
        "      <td>NaN</td>\n",
        "    </tr>\n",
        "  </tbody>\n",
        "</table>\n",
        "</div>"
       ],
       "metadata": {},
       "output_type": "pyout",
       "prompt_number": 3,
       "text": [
        "       contbr_occupation         form_tp  election_tp\n",
        "count     5349937.000000  5349937.000000            0\n",
        "mean          191.388611   880796.640100          NaN\n",
        "std          9510.888126    36366.027263          NaN\n",
        "min        -60800.000000   723511.000000          NaN\n",
        "25%            25.000000   876050.000000          NaN\n",
        "50%            50.000000   896848.000000          NaN\n",
        "75%           100.000000   897086.000000          NaN\n",
        "max      16387179.200000   921960.000000          NaN"
       ]
      }
     ],
     "prompt_number": 3
    },
    {
     "cell_type": "code",
     "collapsed": false,
     "input": [
      "elect.columns"
     ],
     "language": "python",
     "metadata": {},
     "outputs": [
      {
       "metadata": {},
       "output_type": "pyout",
       "prompt_number": 4,
       "text": [
        "Index([u'cmte_id', u'cand_id', u'cand_nm', u'contbr_nm', u'contbr_city', u'contbr_st', u'contbr_zip', u'contbr_employer', u'contbr_occupation', u'contb_receipt_amt', u'contb_receipt_dt', u'receipt_desc', u'memo_cd', u'memo_text', u'form_tp', u'file_num', u'tran_id', u'election_tp'], dtype='object')"
       ]
      }
     ],
     "prompt_number": 4
    },
    {
     "cell_type": "code",
     "collapsed": false,
     "input": [
      "elect.ix[123456]"
     ],
     "language": "python",
     "metadata": {},
     "outputs": [
      {
       "metadata": {},
       "output_type": "pyout",
       "prompt_number": 5,
       "text": [
        "cmte_id                                           P80003353\n",
        "cand_id                                        Romney, Mitt\n",
        "cand_nm                               FOWLER, THOMAS D. MR.\n",
        "contbr_nm                                           BRADLEY\n",
        "contbr_city                                              CA\n",
        "contbr_st                                       9.34267e+08\n",
        "contbr_zip           INFORMATION REQUESTED PER BEST EFFORTS\n",
        "contbr_employer      INFORMATION REQUESTED PER BEST EFFORTS\n",
        "contbr_occupation                                      1000\n",
        "contb_receipt_amt                                 24-SEP-12\n",
        "contb_receipt_dt                                        NaN\n",
        "receipt_desc                                              X\n",
        "memo_cd                   TRANSFER FROM ROMNEY VICTORY INC.\n",
        "memo_text                                              SA18\n",
        "form_tp                                              896745\n",
        "file_num                               SA18.2823326.26.V009\n",
        "tran_id                                               G2012\n",
        "election_tp                                             NaN\n",
        "Name: C00431171, dtype: object"
       ]
      }
     ],
     "prompt_number": 5
    },
    {
     "cell_type": "code",
     "collapsed": false,
     "input": [
      "unique_cands = elect.cand_nm.unique();unique_cands"
     ],
     "language": "python",
     "metadata": {},
     "outputs": [
      {
       "metadata": {},
       "output_type": "pyout",
       "prompt_number": 6,
       "text": [
        "array(['HARVEY, WILLIAM', 'SMITH, LANIER', 'BLEVINS, DARONDA', ...,\n",
        "       'RHODES, JC', 'PLACHA, CYNTHIA', 'KLINGER, CHRISTOPHE'], dtype=object)"
       ]
      }
     ],
     "prompt_number": 6
    },
    {
     "cell_type": "code",
     "collapsed": false,
     "input": [
      "pol_parties = {'Bachmann, Michelle': 'Republican',\n",
      "'Cain, Herman': 'Republican',\n",
      "'Gingrich, Newt': 'Republican',\n",
      "'Huntsman, Jon': 'Republican',\n",
      "'Johnson, Gary Earl': 'Republican',\n",
      "'McCotter, Thaddeus G': 'Republican',\n",
      "'Obama, Barack': 'Democrat',\n",
      "'Paul, Ron': 'Republican',\n",
      "'Pawlenty, Timothy': 'Republican',\n",
      "'Perry, Rick': 'Republican',\n",
      "\"Roemer, Charles E. 'Buddy' III\": 'Republican',\n",
      "'Romney, Mitt': 'Republican',\n",
      "'Santorum, Rick': 'Republican'};"
     ],
     "language": "python",
     "metadata": {},
     "outputs": [],
     "prompt_number": 7
    },
    {
     "cell_type": "code",
     "collapsed": false,
     "input": [
      "elect['pol_party'] = elect.cand_id.map(pol_parties)"
     ],
     "language": "python",
     "metadata": {},
     "outputs": [],
     "prompt_number": 8
    },
    {
     "cell_type": "code",
     "collapsed": false,
     "input": [
      "elect.ix[123556]"
     ],
     "language": "python",
     "metadata": {},
     "outputs": [
      {
       "metadata": {},
       "output_type": "pyout",
       "prompt_number": 9,
       "text": [
        "cmte_id                                          P80003353\n",
        "cand_id                                       Romney, Mitt\n",
        "cand_nm                                  SEISA, ANECITA C.\n",
        "contbr_nm                                      LOS ANGELES\n",
        "contbr_city                                             CA\n",
        "contbr_st                                     9.002047e+08\n",
        "contbr_zip                                   SELF-EMPLOYED\n",
        "contbr_employer      PRESIDENT/CEO/EXECUTIVE ADMINISTRATOR\n",
        "contbr_occupation                                     1000\n",
        "contb_receipt_amt                                24-SEP-12\n",
        "contb_receipt_dt                                       NaN\n",
        "receipt_desc                                           NaN\n",
        "memo_cd                                                NaN\n",
        "memo_text                                            SA17A\n",
        "form_tp                                             896745\n",
        "file_num                                      SA17.2862951\n",
        "tran_id                                              G2012\n",
        "election_tp                                            NaN\n",
        "pol_party                                       Republican\n",
        "Name: C00431171, dtype: object"
       ]
      }
     ],
     "prompt_number": 9
    },
    {
     "cell_type": "code",
     "collapsed": false,
     "input": [
      "elect['pol_party'].value_counts()"
     ],
     "language": "python",
     "metadata": {},
     "outputs": [
      {
       "metadata": {},
       "output_type": "pyout",
       "prompt_number": 10,
       "text": [
        "Democrat      4122186\n",
        "Republican    1212810\n",
        "dtype: int64"
       ]
      }
     ],
     "prompt_number": 10
    },
    {
     "cell_type": "code",
     "collapsed": false,
     "input": [
      "elect = elect[elect.contb_receipt_amt > 0]"
     ],
     "language": "python",
     "metadata": {},
     "outputs": [],
     "prompt_number": 11
    },
    {
     "cell_type": "code",
     "collapsed": false,
     "input": [
      "elect.contbr_employer.value_counts()[:10]"
     ],
     "language": "python",
     "metadata": {},
     "outputs": [
      {
       "metadata": {},
       "output_type": "pyout",
       "prompt_number": 12,
       "text": [
        "RETIRED                                   1204904\n",
        "ATTORNEY                                   177002\n",
        "HOMEMAKER                                  126768\n",
        "INFORMATION REQUESTED                      125130\n",
        "PHYSICIAN                                  121059\n",
        "INFORMATION REQUESTED PER BEST EFFORTS     104981\n",
        "TEACHER                                    102561\n",
        "PROFESSOR                                   94455\n",
        "CONSULTANT                                  72283\n",
        "ENGINEER                                    65779\n",
        "dtype: int64"
       ]
      }
     ],
     "prompt_number": 12
    },
    {
     "cell_type": "code",
     "collapsed": false,
     "input": [
      "elect.contbr_employer.unique()"
     ],
     "language": "python",
     "metadata": {},
     "outputs": [
      {
       "metadata": {},
       "output_type": "pyout",
       "prompt_number": 13,
       "text": [
        "array(['RETIRED', 'INFORMATION REQUESTED', 'RN', ..., 'MANAGER, RESEARCH',\n",
        "       'E-NEWSLETTER MANAGER', 'LAWYER/ACTIVIST/ENGINEER'], dtype=object)"
       ]
      }
     ],
     "prompt_number": 13
    },
    {
     "cell_type": "code",
     "collapsed": false,
     "input": [
      "occ_mapping = {\n",
      "'INFORMATION REQUESTED PER BEST EFFORTS' : 'NOT PROVIDED',\n",
      "'INFORMATION REQUESTED' : 'NOT PROVIDED',\n",
      "'INFORMATION REQUESTED (BEST EFFORTS)' : 'NOT PROVIDED',\n",
      "'C.E.O.': 'CEO'\n",
      "}\n",
      "f = lambda x: occ_mapping.get(x, x)\n",
      "elect.contbr_occupation = elect.contbr_employer.map(f)\n",
      "\n",
      "emp_mapping = {\n",
      "'INFORMATION REQUESTED PER BEST EFFORTS' : 'NOT PROVIDED',\n",
      "'INFORMATION REQUESTED' : 'NOT PROVIDED',\n",
      "'SELF' : 'SELF-EMPLOYED',\n",
      "'SELF EMPLOYED' : 'SELF-EMPLOYED',\n",
      "}\n",
      "# If no mapping provided, return x\n",
      "gx = lambda y: emp_mapping.get(y, y)\n",
      "elect.contbr_employer = elect.contbr_employer.map(gx)"
     ],
     "language": "python",
     "metadata": {},
     "outputs": [],
     "prompt_number": 14
    },
    {
     "cell_type": "code",
     "collapsed": false,
     "input": [
      "elect.contbr_employer.unique()"
     ],
     "language": "python",
     "metadata": {},
     "outputs": [
      {
       "metadata": {},
       "output_type": "pyout",
       "prompt_number": 15,
       "text": [
        "array(['RETIRED', 'NOT PROVIDED', 'RN', ..., 'MANAGER, RESEARCH',\n",
        "       'E-NEWSLETTER MANAGER', 'LAWYER/ACTIVIST/ENGINEER'], dtype=object)"
       ]
      }
     ],
     "prompt_number": 15
    },
    {
     "cell_type": "code",
     "collapsed": false,
     "input": [
      "elect2 = elect[elect.cand_id.isin(['Obama, Barack', 'Romney, Mitt'])]"
     ],
     "language": "python",
     "metadata": {},
     "outputs": [],
     "prompt_number": 21
    },
    {
     "cell_type": "code",
     "collapsed": false,
     "input": [
      "piv_emp = elect2.pivot_table('contb_receipt_amt',rows='contbr_employer',cols='pol_party', aggfunc='sum')"
     ],
     "language": "python",
     "metadata": {},
     "outputs": []
    },
    {
     "cell_type": "code",
     "collapsed": false,
     "input": [
      "over_2mm = by_occupation[by_occupation.sum(1) > 2000000];over_2mm"
     ],
     "language": "python",
     "metadata": {},
     "outputs": []
    }
   ],
   "metadata": {}
  }
 ]
}