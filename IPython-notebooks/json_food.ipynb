{
 "metadata": {
  "name": "",
  "signature": "sha256:e50b399b2c9b3d834553cee06b024b849f55705b709e0c07e89ccf864e9be829"
 },
 "nbformat": 3,
 "nbformat_minor": 0,
 "worksheets": [
  {
   "cells": [
    {
     "cell_type": "heading",
     "level": 6,
     "metadata": {},
     "source": [
      "                        Nested JSON Data Exploration and Knowledge Discovery "
     ]
    },
    {
     "cell_type": "code",
     "collapsed": false,
     "input": [
      "import json\n",
      "import pandas as pd\n",
      "db = json.load(open('foods-2011-10-03.json'))"
     ],
     "language": "python",
     "metadata": {},
     "outputs": [],
     "prompt_number": 157
    },
    {
     "cell_type": "heading",
     "level": 6,
     "metadata": {},
     "source": [
      "Lets look at the data to see what were dealing with. Ok this is all the contents of one type of food and there are 1008 types of food. So it looks like most of the data lies within the nutrients descriptor."
     ]
    },
    {
     "cell_type": "code",
     "collapsed": false,
     "input": [
      "!head -c 1000 'foods-2011-10-03.json'"
     ],
     "language": "python",
     "metadata": {},
     "outputs": [
      {
       "output_type": "stream",
       "stream": "stdout",
       "text": [
        "[{\"id\":1008,\"description\":\"Cheese, caraway\",\"tags\":[],\"manufacturer\":\"\",\"group\":\"Dairy and Egg Products\",\"portions\":[{\"amount\":1,\"unit\":\"oz\",\"grams\":28.35}],\"nutrients\":[{\"value\":25.18,\"units\":\"g\",\"description\":\"Protein\",\"group\":\"Composition\"},{\"value\":29.2,\"units\":\"g\",\"description\":\"Total lipid (fat)\",\"group\":\"Composition\"},{\"value\":3.06,\"units\":\"g\",\"description\":\"Carbohydrate, by difference\",\"group\":\"Composition\"},{\"value\":3.28,\"units\":\"g\",\"description\":\"Ash\",\"group\":\"Other\"},{\"value\":376.0,\"units\":\"kcal\",\"description\":\"Energy\",\"group\":\"Energy\"},{\"value\":39.28,\"units\":\"g\",\"description\":\"Water\",\"group\":\"Composition\"},{\"value\":1573.0,\"units\":\"kJ\",\"description\":\"Energy\",\"group\":\"Energy\"},{\"value\":0.0,\"units\":\"g\",\"description\":\"Fiber, total dietary\",\"group\":\"Composition\"},{\"value\":673.0,\"units\":\"mg\",\"description\":\"Calcium, Ca\",\"group\":\"Elements\"},{\"value\":0.64,\"units\":\"mg\",\"description\":\"Iron, Fe\",\"group\":\"Elements\"},{\"value\":22.0,\"units\":\"mg\",\"description\":\"Magnesium, Mg\",\"group\":\"Eleme"
       ]
      }
     ],
     "prompt_number": 158
    },
    {
     "cell_type": "code",
     "collapsed": false,
     "input": [
      "db[0]['id']"
     ],
     "language": "python",
     "metadata": {},
     "outputs": [
      {
       "metadata": {},
       "output_type": "pyout",
       "prompt_number": 159,
       "text": [
        "1008"
       ]
      }
     ],
     "prompt_number": 159
    },
    {
     "cell_type": "code",
     "collapsed": false,
     "input": [
      "db[0].keys()"
     ],
     "language": "python",
     "metadata": {},
     "outputs": [
      {
       "metadata": {},
       "output_type": "pyout",
       "prompt_number": 160,
       "text": [
        "[u'portions',\n",
        " u'description',\n",
        " u'tags',\n",
        " u'nutrients',\n",
        " u'group',\n",
        " u'id',\n",
        " u'manufacturer']"
       ]
      }
     ],
     "prompt_number": 160
    },
    {
     "cell_type": "code",
     "collapsed": false,
     "input": [
      "db[0]['nutrients'][:10]"
     ],
     "language": "python",
     "metadata": {},
     "outputs": [
      {
       "metadata": {},
       "output_type": "pyout",
       "prompt_number": 161,
       "text": [
        "[{u'description': u'Protein',\n",
        "  u'group': u'Composition',\n",
        "  u'units': u'g',\n",
        "  u'value': 25.18},\n",
        " {u'description': u'Total lipid (fat)',\n",
        "  u'group': u'Composition',\n",
        "  u'units': u'g',\n",
        "  u'value': 29.2},\n",
        " {u'description': u'Carbohydrate, by difference',\n",
        "  u'group': u'Composition',\n",
        "  u'units': u'g',\n",
        "  u'value': 3.06},\n",
        " {u'description': u'Ash', u'group': u'Other', u'units': u'g', u'value': 3.28},\n",
        " {u'description': u'Energy',\n",
        "  u'group': u'Energy',\n",
        "  u'units': u'kcal',\n",
        "  u'value': 376.0},\n",
        " {u'description': u'Water',\n",
        "  u'group': u'Composition',\n",
        "  u'units': u'g',\n",
        "  u'value': 39.28},\n",
        " {u'description': u'Energy',\n",
        "  u'group': u'Energy',\n",
        "  u'units': u'kJ',\n",
        "  u'value': 1573.0},\n",
        " {u'description': u'Fiber, total dietary',\n",
        "  u'group': u'Composition',\n",
        "  u'units': u'g',\n",
        "  u'value': 0.0},\n",
        " {u'description': u'Calcium, Ca',\n",
        "  u'group': u'Elements',\n",
        "  u'units': u'mg',\n",
        "  u'value': 673.0},\n",
        " {u'description': u'Iron, Fe',\n",
        "  u'group': u'Elements',\n",
        "  u'units': u'mg',\n",
        "  u'value': 0.64}]"
       ]
      }
     ],
     "prompt_number": 161
    },
    {
     "cell_type": "heading",
     "level": 6,
     "metadata": {},
     "source": [
      "Making a Data Frame from select columns for easier navigation and exploration"
     ]
    },
    {
     "cell_type": "code",
     "collapsed": false,
     "input": [
      "info_keys = ['description', 'group', 'id', 'manufacturer']\n",
      "info = pd.DataFrame(db, columns=info_keys);info.head()"
     ],
     "language": "python",
     "metadata": {},
     "outputs": [
      {
       "html": [
        "<div style=\"max-height:1000px;max-width:1500px;overflow:auto;\">\n",
        "<table border=\"1\" class=\"dataframe\">\n",
        "  <thead>\n",
        "    <tr style=\"text-align: right;\">\n",
        "      <th></th>\n",
        "      <th>description</th>\n",
        "      <th>group</th>\n",
        "      <th>id</th>\n",
        "      <th>manufacturer</th>\n",
        "    </tr>\n",
        "  </thead>\n",
        "  <tbody>\n",
        "    <tr>\n",
        "      <th>0</th>\n",
        "      <td>                    Cheese, caraway</td>\n",
        "      <td> Dairy and Egg Products</td>\n",
        "      <td> 1008</td>\n",
        "      <td> </td>\n",
        "    </tr>\n",
        "    <tr>\n",
        "      <th>1</th>\n",
        "      <td>                    Cheese, cheddar</td>\n",
        "      <td> Dairy and Egg Products</td>\n",
        "      <td> 1009</td>\n",
        "      <td> </td>\n",
        "    </tr>\n",
        "    <tr>\n",
        "      <th>2</th>\n",
        "      <td>                       Cheese, edam</td>\n",
        "      <td> Dairy and Egg Products</td>\n",
        "      <td> 1018</td>\n",
        "      <td> </td>\n",
        "    </tr>\n",
        "    <tr>\n",
        "      <th>3</th>\n",
        "      <td>                       Cheese, feta</td>\n",
        "      <td> Dairy and Egg Products</td>\n",
        "      <td> 1019</td>\n",
        "      <td> </td>\n",
        "    </tr>\n",
        "    <tr>\n",
        "      <th>4</th>\n",
        "      <td> Cheese, mozzarella, part skim milk</td>\n",
        "      <td> Dairy and Egg Products</td>\n",
        "      <td> 1028</td>\n",
        "      <td> </td>\n",
        "    </tr>\n",
        "  </tbody>\n",
        "</table>\n",
        "</div>"
       ],
       "metadata": {},
       "output_type": "pyout",
       "prompt_number": 162,
       "text": [
        "                          description                   group    id  \\\n",
        "0                     Cheese, caraway  Dairy and Egg Products  1008   \n",
        "1                     Cheese, cheddar  Dairy and Egg Products  1009   \n",
        "2                        Cheese, edam  Dairy and Egg Products  1018   \n",
        "3                        Cheese, feta  Dairy and Egg Products  1019   \n",
        "4  Cheese, mozzarella, part skim milk  Dairy and Egg Products  1028   \n",
        "\n",
        "  manufacturer  \n",
        "0               \n",
        "1               \n",
        "2               \n",
        "3               \n",
        "4               "
       ]
      }
     ],
     "prompt_number": 162
    },
    {
     "cell_type": "code",
     "collapsed": false,
     "input": [
      "info.group.describe()"
     ],
     "language": "python",
     "metadata": {},
     "outputs": [
      {
       "metadata": {},
       "output_type": "pyout",
       "prompt_number": 163,
       "text": [
        "count                                  6636\n",
        "unique                                   25\n",
        "top       Vegetables and Vegetable Products\n",
        "freq                                    812\n",
        "dtype: object"
       ]
      }
     ],
     "prompt_number": 163
    },
    {
     "cell_type": "heading",
     "level": 6,
     "metadata": {},
     "source": [
      "Showing the different types of food groups"
     ]
    },
    {
     "cell_type": "code",
     "collapsed": false,
     "input": [
      "info.group.unique()"
     ],
     "language": "python",
     "metadata": {},
     "outputs": [
      {
       "metadata": {},
       "output_type": "pyout",
       "prompt_number": 164,
       "text": [
        "array([u'Dairy and Egg Products', u'Spices and Herbs', u'Baby Foods',\n",
        "       u'Fats and Oils', u'Poultry Products',\n",
        "       u'Soups, Sauces, and Gravies', u'Sausages and Luncheon Meats',\n",
        "       u'Breakfast Cereals', u'Fruits and Fruit Juices', u'Pork Products',\n",
        "       u'Vegetables and Vegetable Products', u'Nut and Seed Products',\n",
        "       u'Beef Products', u'Beverages', u'Finfish and Shellfish Products',\n",
        "       u'Legumes and Legume Products', u'Lamb, Veal, and Game Products',\n",
        "       u'Baked Products', u'Snacks', u'Sweets', u'Cereal Grains and Pasta',\n",
        "       u'Fast Foods', u'Meals, Entrees, and Sidedishes', u'Ethnic Foods',\n",
        "       u'Restaurant Foods'], dtype=object)"
       ]
      }
     ],
     "prompt_number": 164
    },
    {
     "cell_type": "code",
     "collapsed": false,
     "input": [
      "pd.value_counts(info.group)[:10]"
     ],
     "language": "python",
     "metadata": {},
     "outputs": [
      {
       "metadata": {},
       "output_type": "pyout",
       "prompt_number": 165,
       "text": [
        "Vegetables and Vegetable Products    812\n",
        "Beef Products                        618\n",
        "Baked Products                       496\n",
        "Breakfast Cereals                    403\n",
        "Legumes and Legume Products          365\n",
        "Fast Foods                           365\n",
        "Lamb, Veal, and Game Products        345\n",
        "Sweets                               341\n",
        "Fruits and Fruit Juices              328\n",
        "Pork Products                        328\n",
        "dtype: int64"
       ]
      }
     ],
     "prompt_number": 165
    },
    {
     "cell_type": "code",
     "collapsed": false,
     "input": [
      "info.describe"
     ],
     "language": "python",
     "metadata": {},
     "outputs": [
      {
       "metadata": {},
       "output_type": "pyout",
       "prompt_number": 166,
       "text": [
        "<bound method DataFrame.describe of                                             description  \\\n",
        "0                                       Cheese, caraway   \n",
        "1                                       Cheese, cheddar   \n",
        "2                                          Cheese, edam   \n",
        "3                                          Cheese, feta   \n",
        "4                    Cheese, mozzarella, part skim milk   \n",
        "5      Cheese, mozzarella, part skim milk, low moisture   \n",
        "6                                        Cheese, romano   \n",
        "7                                     Cheese, roquefort   \n",
        "8     Cheese spread, pasteurized process, american, ...   \n",
        "9                           Cream, fluid, half and half   \n",
        "10    Sour dressing, non-butterfat, cultured, filled...   \n",
        "11    Milk, filled, fluid, with blend of hydrogenate...   \n",
        "12    Cream substitute, liquid, with lauric acid oil...   \n",
        "13                           Cream substitute, powdered   \n",
        "14                  Milk, producer, fluid, 3.7% milkfat   \n",
        "15    Milk, reduced fat, fluid, 2% milkfat, with add...   \n",
        "16    Milk, reduced fat, fluid, 2% milkfat, with add...   \n",
        "17    Milk, reduced fat, fluid, 2% milkfat, protein ...   \n",
        "18    Milk, lowfat, fluid, 1% milkfat, with added vi...   \n",
        "19    Milk, lowfat, fluid, 1% milkfat, with added no...   \n",
        "20    Milk, lowfat, fluid, 1% milkfat, protein forti...   \n",
        "21    Milk, nonfat, fluid, with added vitamin A and ...   \n",
        "22    Milk, nonfat, fluid, with added nonfat milk so...   \n",
        "23    Milk, nonfat, fluid, protein fortified, with a...   \n",
        "24            Milk, buttermilk, fluid, cultured, lowfat   \n",
        "25                              Milk, low sodium, fluid   \n",
        "26               Milk, dry, whole, with added vitamin D   \n",
        "27    Milk, dry, nonfat, regular, without added vita...   \n",
        "28    Milk, dry, nonfat, instant, with added vitamin...   \n",
        "29                   Milk, dry, nonfat, calcium reduced   \n",
        "...                                                 ...   \n",
        "6606  Beef, tenderloin, steak, separable lean only, ...   \n",
        "6607  Beef, top sirloin, steak, separable lean only,...   \n",
        "6608  Beef, short loin, top loin, steak, separable l...   \n",
        "6609  Beef, chuck, arm pot roast, separable lean onl...   \n",
        "6610  Beef, brisket, flat half, separable lean only,...   \n",
        "6611  Beef, chuck, arm pot roast, separable lean onl...   \n",
        "6612  Beef, brisket, flat half, separable lean only,...   \n",
        "6613  Beef, round, eye of round, roast, separable le...   \n",
        "6614  Beef, round, top round, steak, separable lean ...   \n",
        "6615  Beef, round, bottom round, roast, separable le...   \n",
        "6616  Beef, rib, small end (ribs 10-12), separable l...   \n",
        "6617  CAMPBELL Soup Company, CAMPBELL'S Red and Whit...   \n",
        "6618  CAMPBELL Soup Company, CAMPBELL's Red and Whit...   \n",
        "6619  CAMPBELL Soup Company, CAMPBELL'S SELECT Soups...   \n",
        "6620  CAMPBELL Soup Company, CAMPBELL'S SOUP AT HAND...   \n",
        "6621  CAMPBELL Soup Company, CAMPBELL'S SOUP AT HAND...   \n",
        "6622  CAMPBELL Soup Company, CAMPBELL'S SELECT Gold ...   \n",
        "6623  CAMPBELL Soup Company, CAMPBELL'S SELECT Gold ...   \n",
        "6624  CAMPBELL Soup Company, CAMPBELL'S SELECT Gold ...   \n",
        "6625  CAMPBELL Soup Company, CAMPBELL'S Red and Whit...   \n",
        "6626  CAMPBELL Soup Company, V8 Vegetable Juice, Ess...   \n",
        "6627  CAMPBELL Soup Company, V8 Vegetable Juice, Spi...   \n",
        "6628  CAMPBELL Soup Company, PACE, Jalapenos Nacho S...   \n",
        "6629  CAMPBELL Soup Company, V8 60% Vegetable Juice,...   \n",
        "6630  CAMPBELL Soup Company, V8 Vegetable Juice, Low...   \n",
        "6631                             Bologna, beef, low fat   \n",
        "6632  Turkey and pork sausage, fresh, bulk, patty or...   \n",
        "6633                              Babyfood, juice, pear   \n",
        "6634         Babyfood, dessert, banana yogurt, strained   \n",
        "6635              Babyfood, banana no tapioca, strained   \n",
        "\n",
        "                                  group     id       manufacturer  \n",
        "0                Dairy and Egg Products   1008                     \n",
        "1                Dairy and Egg Products   1009                     \n",
        "2                Dairy and Egg Products   1018                     \n",
        "3                Dairy and Egg Products   1019                     \n",
        "4                Dairy and Egg Products   1028                     \n",
        "5                Dairy and Egg Products   1029                     \n",
        "6                Dairy and Egg Products   1038                     \n",
        "7                Dairy and Egg Products   1039                     \n",
        "8                Dairy and Egg Products   1048                     \n",
        "9                Dairy and Egg Products   1049                     \n",
        "10               Dairy and Egg Products   1058                     \n",
        "11               Dairy and Egg Products   1059                     \n",
        "12               Dairy and Egg Products   1068                     \n",
        "13               Dairy and Egg Products   1069                     \n",
        "14               Dairy and Egg Products   1078                     \n",
        "15               Dairy and Egg Products   1079               None  \n",
        "16               Dairy and Egg Products   1080                     \n",
        "17               Dairy and Egg Products   1081                     \n",
        "18               Dairy and Egg Products   1082                     \n",
        "19               Dairy and Egg Products   1083                     \n",
        "20               Dairy and Egg Products   1084                     \n",
        "21               Dairy and Egg Products   1085                     \n",
        "22               Dairy and Egg Products   1086                     \n",
        "23               Dairy and Egg Products   1087                     \n",
        "24               Dairy and Egg Products   1088                     \n",
        "25               Dairy and Egg Products   1089                     \n",
        "26               Dairy and Egg Products   1090                     \n",
        "27               Dairy and Egg Products   1091                     \n",
        "28               Dairy and Egg Products   1092                     \n",
        "29               Dairy and Egg Products   1093                     \n",
        "...                                 ...    ...                ...  \n",
        "6606                      Beef Products  23628                     \n",
        "6607                      Beef Products  23629                     \n",
        "6608                      Beef Products  23630                     \n",
        "6609                      Beef Products  23631                     \n",
        "6610                      Beef Products  23632                     \n",
        "6611                      Beef Products  23633                     \n",
        "6612                      Beef Products  23634                     \n",
        "6613                      Beef Products  23635                     \n",
        "6614                      Beef Products  23636                     \n",
        "6615                      Beef Products  23637                     \n",
        "6616                      Beef Products  23638                     \n",
        "6617         Soups, Sauces, and Gravies  27015  Campbell Soup Co.  \n",
        "6618         Soups, Sauces, and Gravies  27016  Campbell Soup Co.  \n",
        "6619         Soups, Sauces, and Gravies  27021  Campbell Soup Co.  \n",
        "6620         Soups, Sauces, and Gravies  27022  Campbell Soup Co.  \n",
        "6621         Soups, Sauces, and Gravies  27023  Campbell Soup Co.  \n",
        "6622         Soups, Sauces, and Gravies  27024  Campbell Soup Co.  \n",
        "6623         Soups, Sauces, and Gravies  27025  Campbell Soup Co.  \n",
        "6624         Soups, Sauces, and Gravies  27026  Campbell Soup Co.  \n",
        "6625         Soups, Sauces, and Gravies  27032  Campbell Soup Co.  \n",
        "6626  Vegetables and Vegetable Products  31010  Campbell Soup Co.  \n",
        "6627  Vegetables and Vegetable Products  31013  Campbell Soup Co.  \n",
        "6628  Vegetables and Vegetable Products  31014  Campbell Soup Co.  \n",
        "6629  Vegetables and Vegetable Products  31016  Campbell Soup Co.  \n",
        "6630  Vegetables and Vegetable Products  31017  Campbell Soup Co.  \n",
        "6631        Sausages and Luncheon Meats  42161                     \n",
        "6632        Sausages and Luncheon Meats  42173                     \n",
        "6633                         Baby Foods  43408               None  \n",
        "6634                         Baby Foods  43539               None  \n",
        "6635                         Baby Foods  43546               None  \n",
        "\n",
        "[6636 rows x 4 columns]>"
       ]
      }
     ],
     "prompt_number": 166
    },
    {
     "cell_type": "code",
     "collapsed": false,
     "input": [
      "nutrients = pd.DataFrame(db[0]['nutrients']);nutrients.head()"
     ],
     "language": "python",
     "metadata": {},
     "outputs": [
      {
       "html": [
        "<div style=\"max-height:1000px;max-width:1500px;overflow:auto;\">\n",
        "<table border=\"1\" class=\"dataframe\">\n",
        "  <thead>\n",
        "    <tr style=\"text-align: right;\">\n",
        "      <th></th>\n",
        "      <th>description</th>\n",
        "      <th>group</th>\n",
        "      <th>units</th>\n",
        "      <th>value</th>\n",
        "    </tr>\n",
        "  </thead>\n",
        "  <tbody>\n",
        "    <tr>\n",
        "      <th>0</th>\n",
        "      <td>                     Protein</td>\n",
        "      <td> Composition</td>\n",
        "      <td>    g</td>\n",
        "      <td>  25.18</td>\n",
        "    </tr>\n",
        "    <tr>\n",
        "      <th>1</th>\n",
        "      <td>           Total lipid (fat)</td>\n",
        "      <td> Composition</td>\n",
        "      <td>    g</td>\n",
        "      <td>  29.20</td>\n",
        "    </tr>\n",
        "    <tr>\n",
        "      <th>2</th>\n",
        "      <td> Carbohydrate, by difference</td>\n",
        "      <td> Composition</td>\n",
        "      <td>    g</td>\n",
        "      <td>   3.06</td>\n",
        "    </tr>\n",
        "    <tr>\n",
        "      <th>3</th>\n",
        "      <td>                         Ash</td>\n",
        "      <td>       Other</td>\n",
        "      <td>    g</td>\n",
        "      <td>   3.28</td>\n",
        "    </tr>\n",
        "    <tr>\n",
        "      <th>4</th>\n",
        "      <td>                      Energy</td>\n",
        "      <td>      Energy</td>\n",
        "      <td> kcal</td>\n",
        "      <td> 376.00</td>\n",
        "    </tr>\n",
        "  </tbody>\n",
        "</table>\n",
        "</div>"
       ],
       "metadata": {},
       "output_type": "pyout",
       "prompt_number": 167,
       "text": [
        "                   description        group units   value\n",
        "0                      Protein  Composition     g   25.18\n",
        "1            Total lipid (fat)  Composition     g   29.20\n",
        "2  Carbohydrate, by difference  Composition     g    3.06\n",
        "3                          Ash        Other     g    3.28\n",
        "4                       Energy       Energy  kcal  376.00"
       ]
      }
     ],
     "prompt_number": 167
    },
    {
     "cell_type": "code",
     "collapsed": false,
     "input": [
      "grouped = nutrients['description'].groupby(nutrients['group']);grouped.size()"
     ],
     "language": "python",
     "metadata": {},
     "outputs": [
      {
       "metadata": {},
       "output_type": "pyout",
       "prompt_number": 168,
       "text": [
        "group\n",
        "Amino Acids    54\n",
        "Composition    15\n",
        "Elements       30\n",
        "Energy          6\n",
        "Other          15\n",
        "Vitamins       42\n",
        "dtype: int64"
       ]
      }
     ],
     "prompt_number": 168
    },
    {
     "cell_type": "code",
     "collapsed": false,
     "input": [
      "nutr_o = pd.DataFrame(db[0]['nutrients'])"
     ],
     "language": "python",
     "metadata": {},
     "outputs": [],
     "prompt_number": 169
    },
    {
     "cell_type": "code",
     "collapsed": false,
     "input": [
      "nutr_o.head()"
     ],
     "language": "python",
     "metadata": {},
     "outputs": [
      {
       "html": [
        "<div style=\"max-height:1000px;max-width:1500px;overflow:auto;\">\n",
        "<table border=\"1\" class=\"dataframe\">\n",
        "  <thead>\n",
        "    <tr style=\"text-align: right;\">\n",
        "      <th></th>\n",
        "      <th>description</th>\n",
        "      <th>group</th>\n",
        "      <th>units</th>\n",
        "      <th>value</th>\n",
        "    </tr>\n",
        "  </thead>\n",
        "  <tbody>\n",
        "    <tr>\n",
        "      <th>0</th>\n",
        "      <td>                     Protein</td>\n",
        "      <td> Composition</td>\n",
        "      <td>    g</td>\n",
        "      <td>  25.18</td>\n",
        "    </tr>\n",
        "    <tr>\n",
        "      <th>1</th>\n",
        "      <td>           Total lipid (fat)</td>\n",
        "      <td> Composition</td>\n",
        "      <td>    g</td>\n",
        "      <td>  29.20</td>\n",
        "    </tr>\n",
        "    <tr>\n",
        "      <th>2</th>\n",
        "      <td> Carbohydrate, by difference</td>\n",
        "      <td> Composition</td>\n",
        "      <td>    g</td>\n",
        "      <td>   3.06</td>\n",
        "    </tr>\n",
        "    <tr>\n",
        "      <th>3</th>\n",
        "      <td>                         Ash</td>\n",
        "      <td>       Other</td>\n",
        "      <td>    g</td>\n",
        "      <td>   3.28</td>\n",
        "    </tr>\n",
        "    <tr>\n",
        "      <th>4</th>\n",
        "      <td>                      Energy</td>\n",
        "      <td>      Energy</td>\n",
        "      <td> kcal</td>\n",
        "      <td> 376.00</td>\n",
        "    </tr>\n",
        "  </tbody>\n",
        "</table>\n",
        "</div>"
       ],
       "metadata": {},
       "output_type": "pyout",
       "prompt_number": 170,
       "text": [
        "                   description        group units   value\n",
        "0                      Protein  Composition     g   25.18\n",
        "1            Total lipid (fat)  Composition     g   29.20\n",
        "2  Carbohydrate, by difference  Composition     g    3.06\n",
        "3                          Ash        Other     g    3.28\n",
        "4                       Energy       Energy  kcal  376.00"
       ]
      }
     ],
     "prompt_number": 170
    },
    {
     "cell_type": "code",
     "collapsed": false,
     "input": [
      "nutr_o[nutr_o.description.str.contains('Protein')]"
     ],
     "language": "python",
     "metadata": {},
     "outputs": [
      {
       "html": [
        "<div style=\"max-height:1000px;max-width:1500px;overflow:auto;\">\n",
        "<table border=\"1\" class=\"dataframe\">\n",
        "  <thead>\n",
        "    <tr style=\"text-align: right;\">\n",
        "      <th></th>\n",
        "      <th>description</th>\n",
        "      <th>group</th>\n",
        "      <th>units</th>\n",
        "      <th>value</th>\n",
        "    </tr>\n",
        "  </thead>\n",
        "  <tbody>\n",
        "    <tr>\n",
        "      <th>0  </th>\n",
        "      <td> Protein</td>\n",
        "      <td> Composition</td>\n",
        "      <td> g</td>\n",
        "      <td> 25.18</td>\n",
        "    </tr>\n",
        "    <tr>\n",
        "      <th>54 </th>\n",
        "      <td> Protein</td>\n",
        "      <td> Composition</td>\n",
        "      <td> g</td>\n",
        "      <td> 25.18</td>\n",
        "    </tr>\n",
        "    <tr>\n",
        "      <th>108</th>\n",
        "      <td> Protein</td>\n",
        "      <td> Composition</td>\n",
        "      <td> g</td>\n",
        "      <td> 25.18</td>\n",
        "    </tr>\n",
        "  </tbody>\n",
        "</table>\n",
        "</div>"
       ],
       "metadata": {},
       "output_type": "pyout",
       "prompt_number": 171,
       "text": [
        "    description        group units  value\n",
        "0       Protein  Composition     g  25.18\n",
        "54      Protein  Composition     g  25.18\n",
        "108     Protein  Composition     g  25.18"
       ]
      }
     ],
     "prompt_number": 171
    },
    {
     "cell_type": "code",
     "collapsed": false,
     "input": [
      "nutr_o['group'].unique()"
     ],
     "language": "python",
     "metadata": {},
     "outputs": [
      {
       "metadata": {},
       "output_type": "pyout",
       "prompt_number": 172,
       "text": [
        "array([u'Composition', u'Other', u'Energy', u'Elements', u'Vitamins',\n",
        "       u'Amino Acids'], dtype=object)"
       ]
      }
     ],
     "prompt_number": 172
    },
    {
     "cell_type": "code",
     "collapsed": false,
     "input": [
      "nutr_o['description'].unique()"
     ],
     "language": "python",
     "metadata": {},
     "outputs": [
      {
       "metadata": {},
       "output_type": "pyout",
       "prompt_number": 173,
       "text": [
        "array([u'Protein', u'Total lipid (fat)', u'Carbohydrate, by difference',\n",
        "       u'Ash', u'Energy', u'Water', u'Fiber, total dietary',\n",
        "       u'Calcium, Ca', u'Iron, Fe', u'Magnesium, Mg', u'Phosphorus, P',\n",
        "       u'Potassium, K', u'Sodium, Na', u'Zinc, Zn', u'Copper, Cu',\n",
        "       u'Manganese, Mn', u'Selenium, Se', u'Vitamin A, IU', u'Retinol',\n",
        "       u'Vitamin A, RAE', u'Vitamin C, total ascorbic acid', u'Thiamin',\n",
        "       u'Riboflavin', u'Niacin', u'Pantothenic acid', u'Vitamin B-6',\n",
        "       u'Folate, total', u'Vitamin B-12', u'Folic acid', u'Folate, food',\n",
        "       u'Folate, DFE', u'Cholesterol', u'Fatty acids, total saturated',\n",
        "       u'Fatty acids, total monounsaturated',\n",
        "       u'Fatty acids, total polyunsaturated', u'Tryptophan', u'Threonine',\n",
        "       u'Isoleucine', u'Leucine', u'Lysine', u'Methionine', u'Cystine',\n",
        "       u'Phenylalanine', u'Tyrosine', u'Valine', u'Arginine', u'Histidine',\n",
        "       u'Alanine', u'Aspartic acid', u'Glutamic acid', u'Glycine',\n",
        "       u'Proline', u'Serine'], dtype=object)"
       ]
      }
     ],
     "prompt_number": 173
    },
    {
     "cell_type": "heading",
     "level": 6,
     "metadata": {},
     "source": [
      "Ok in order to make sense of this data we have to create a table that will have the nutrition imformation in the same row as the food _id and the food name etc. "
     ]
    },
    {
     "cell_type": "code",
     "collapsed": false,
     "input": [
      " from pandas.io.json import json_normalize\n",
      " new_db = json_normalize(db);new_db.head()"
     ],
     "language": "python",
     "metadata": {},
     "outputs": [
      {
       "html": [
        "<div style=\"max-height:1000px;max-width:1500px;overflow:auto;\">\n",
        "<table border=\"1\" class=\"dataframe\">\n",
        "  <thead>\n",
        "    <tr style=\"text-align: right;\">\n",
        "      <th></th>\n",
        "      <th>description</th>\n",
        "      <th>group</th>\n",
        "      <th>id</th>\n",
        "      <th>manufacturer</th>\n",
        "      <th>nutrients</th>\n",
        "      <th>portions</th>\n",
        "      <th>tags</th>\n",
        "    </tr>\n",
        "  </thead>\n",
        "  <tbody>\n",
        "    <tr>\n",
        "      <th>0</th>\n",
        "      <td>                    Cheese, caraway</td>\n",
        "      <td> Dairy and Egg Products</td>\n",
        "      <td> 1008</td>\n",
        "      <td> </td>\n",
        "      <td> [{u'units': u'g', u'group': u'Composition', u'...</td>\n",
        "      <td> [{u'amount': 1, u'grams': 28.35, u'unit': u'oz'}]</td>\n",
        "      <td> []</td>\n",
        "    </tr>\n",
        "    <tr>\n",
        "      <th>1</th>\n",
        "      <td>                    Cheese, cheddar</td>\n",
        "      <td> Dairy and Egg Products</td>\n",
        "      <td> 1009</td>\n",
        "      <td> </td>\n",
        "      <td> [{u'units': u'g', u'group': u'Composition', u'...</td>\n",
        "      <td> [{u'amount': 1, u'grams': 132.0, u'unit': u'cu...</td>\n",
        "      <td> []</td>\n",
        "    </tr>\n",
        "    <tr>\n",
        "      <th>2</th>\n",
        "      <td>                       Cheese, edam</td>\n",
        "      <td> Dairy and Egg Products</td>\n",
        "      <td> 1018</td>\n",
        "      <td> </td>\n",
        "      <td> [{u'units': u'g', u'group': u'Other', u'descri...</td>\n",
        "      <td> [{u'amount': 1, u'grams': 28.35, u'unit': u'oz...</td>\n",
        "      <td> []</td>\n",
        "    </tr>\n",
        "    <tr>\n",
        "      <th>3</th>\n",
        "      <td>                       Cheese, feta</td>\n",
        "      <td> Dairy and Egg Products</td>\n",
        "      <td> 1019</td>\n",
        "      <td> </td>\n",
        "      <td> [{u'units': u'g', u'group': u'Other', u'descri...</td>\n",
        "      <td> [{u'amount': 1, u'grams': 150.0, u'unit': u'cu...</td>\n",
        "      <td> []</td>\n",
        "    </tr>\n",
        "    <tr>\n",
        "      <th>4</th>\n",
        "      <td> Cheese, mozzarella, part skim milk</td>\n",
        "      <td> Dairy and Egg Products</td>\n",
        "      <td> 1028</td>\n",
        "      <td> </td>\n",
        "      <td> [{u'units': u'g', u'group': u'Other', u'descri...</td>\n",
        "      <td> [{u'amount': 1, u'grams': 28.35, u'unit': u'oz'}]</td>\n",
        "      <td> []</td>\n",
        "    </tr>\n",
        "  </tbody>\n",
        "</table>\n",
        "</div>"
       ],
       "metadata": {},
       "output_type": "pyout",
       "prompt_number": 174,
       "text": [
        "                          description                   group    id  \\\n",
        "0                     Cheese, caraway  Dairy and Egg Products  1008   \n",
        "1                     Cheese, cheddar  Dairy and Egg Products  1009   \n",
        "2                        Cheese, edam  Dairy and Egg Products  1018   \n",
        "3                        Cheese, feta  Dairy and Egg Products  1019   \n",
        "4  Cheese, mozzarella, part skim milk  Dairy and Egg Products  1028   \n",
        "\n",
        "  manufacturer                                          nutrients  \\\n",
        "0               [{u'units': u'g', u'group': u'Composition', u'...   \n",
        "1               [{u'units': u'g', u'group': u'Composition', u'...   \n",
        "2               [{u'units': u'g', u'group': u'Other', u'descri...   \n",
        "3               [{u'units': u'g', u'group': u'Other', u'descri...   \n",
        "4               [{u'units': u'g', u'group': u'Other', u'descri...   \n",
        "\n",
        "                                            portions tags  \n",
        "0  [{u'amount': 1, u'grams': 28.35, u'unit': u'oz'}]   []  \n",
        "1  [{u'amount': 1, u'grams': 132.0, u'unit': u'cu...   []  \n",
        "2  [{u'amount': 1, u'grams': 28.35, u'unit': u'oz...   []  \n",
        "3  [{u'amount': 1, u'grams': 150.0, u'unit': u'cu...   []  \n",
        "4  [{u'amount': 1, u'grams': 28.35, u'unit': u'oz'}]   []  "
       ]
      }
     ],
     "prompt_number": 174
    },
    {
     "cell_type": "heading",
     "level": 6,
     "metadata": {},
     "source": [
      "Well this doesn't help much because nutrients is still nested in this table as a list of dicts.\n",
      "So here we will now unravel this...from the original json object"
     ]
    },
    {
     "cell_type": "code",
     "collapsed": false,
     "input": [
      "nutrients = []\n",
      "for record in db:\n",
      "    f_nutr = pd.DataFrame(record['nutrients'])\n",
      "    f_nutr['id'] = record['id']\n",
      "    nutrients.append(f_nutr)\n",
      "nutrients = pd.concat(nutrients, ignore_index=True)\n",
      "nutrients.head()"
     ],
     "language": "python",
     "metadata": {},
     "outputs": [
      {
       "html": [
        "<div style=\"max-height:1000px;max-width:1500px;overflow:auto;\">\n",
        "<table border=\"1\" class=\"dataframe\">\n",
        "  <thead>\n",
        "    <tr style=\"text-align: right;\">\n",
        "      <th></th>\n",
        "      <th>description</th>\n",
        "      <th>group</th>\n",
        "      <th>units</th>\n",
        "      <th>value</th>\n",
        "      <th>id</th>\n",
        "    </tr>\n",
        "  </thead>\n",
        "  <tbody>\n",
        "    <tr>\n",
        "      <th>0</th>\n",
        "      <td>                     Protein</td>\n",
        "      <td> Composition</td>\n",
        "      <td>    g</td>\n",
        "      <td>  25.18</td>\n",
        "      <td> 1008</td>\n",
        "    </tr>\n",
        "    <tr>\n",
        "      <th>1</th>\n",
        "      <td>           Total lipid (fat)</td>\n",
        "      <td> Composition</td>\n",
        "      <td>    g</td>\n",
        "      <td>  29.20</td>\n",
        "      <td> 1008</td>\n",
        "    </tr>\n",
        "    <tr>\n",
        "      <th>2</th>\n",
        "      <td> Carbohydrate, by difference</td>\n",
        "      <td> Composition</td>\n",
        "      <td>    g</td>\n",
        "      <td>   3.06</td>\n",
        "      <td> 1008</td>\n",
        "    </tr>\n",
        "    <tr>\n",
        "      <th>3</th>\n",
        "      <td>                         Ash</td>\n",
        "      <td>       Other</td>\n",
        "      <td>    g</td>\n",
        "      <td>   3.28</td>\n",
        "      <td> 1008</td>\n",
        "    </tr>\n",
        "    <tr>\n",
        "      <th>4</th>\n",
        "      <td>                      Energy</td>\n",
        "      <td>      Energy</td>\n",
        "      <td> kcal</td>\n",
        "      <td> 376.00</td>\n",
        "      <td> 1008</td>\n",
        "    </tr>\n",
        "  </tbody>\n",
        "</table>\n",
        "</div>"
       ],
       "metadata": {},
       "output_type": "pyout",
       "prompt_number": 175,
       "text": [
        "                   description        group units   value    id\n",
        "0                      Protein  Composition     g   25.18  1008\n",
        "1            Total lipid (fat)  Composition     g   29.20  1008\n",
        "2  Carbohydrate, by difference  Composition     g    3.06  1008\n",
        "3                          Ash        Other     g    3.28  1008\n",
        "4                       Energy       Energy  kcal  376.00  1008"
       ]
      }
     ],
     "prompt_number": 175
    },
    {
     "cell_type": "code",
     "collapsed": false,
     "input": [
      "nutrients = nutrients.drop_duplicates()"
     ],
     "language": "python",
     "metadata": {},
     "outputs": [],
     "prompt_number": 176
    },
    {
     "cell_type": "code",
     "collapsed": false,
     "input": [
      "col_mapping = {'description' : 'food','group': 'fgroup'}\n",
      "info = info.rename(columns=col_mapping, copy=False)\n",
      "col_mapping = {'description' : 'nutrient','group' : 'nutgroup'}\n",
      "nutrients = nutrients.rename(columns=col_mapping, copy=False)"
     ],
     "language": "python",
     "metadata": {},
     "outputs": [],
     "prompt_number": 177
    },
    {
     "cell_type": "code",
     "collapsed": false,
     "input": [
      "nutrients.head()"
     ],
     "language": "python",
     "metadata": {},
     "outputs": [
      {
       "html": [
        "<div style=\"max-height:1000px;max-width:1500px;overflow:auto;\">\n",
        "<table border=\"1\" class=\"dataframe\">\n",
        "  <thead>\n",
        "    <tr style=\"text-align: right;\">\n",
        "      <th></th>\n",
        "      <th>nutrient</th>\n",
        "      <th>nutgroup</th>\n",
        "      <th>units</th>\n",
        "      <th>value</th>\n",
        "      <th>id</th>\n",
        "    </tr>\n",
        "  </thead>\n",
        "  <tbody>\n",
        "    <tr>\n",
        "      <th>0</th>\n",
        "      <td>                     Protein</td>\n",
        "      <td> Composition</td>\n",
        "      <td>    g</td>\n",
        "      <td>  25.18</td>\n",
        "      <td> 1008</td>\n",
        "    </tr>\n",
        "    <tr>\n",
        "      <th>1</th>\n",
        "      <td>           Total lipid (fat)</td>\n",
        "      <td> Composition</td>\n",
        "      <td>    g</td>\n",
        "      <td>  29.20</td>\n",
        "      <td> 1008</td>\n",
        "    </tr>\n",
        "    <tr>\n",
        "      <th>2</th>\n",
        "      <td> Carbohydrate, by difference</td>\n",
        "      <td> Composition</td>\n",
        "      <td>    g</td>\n",
        "      <td>   3.06</td>\n",
        "      <td> 1008</td>\n",
        "    </tr>\n",
        "    <tr>\n",
        "      <th>3</th>\n",
        "      <td>                         Ash</td>\n",
        "      <td>       Other</td>\n",
        "      <td>    g</td>\n",
        "      <td>   3.28</td>\n",
        "      <td> 1008</td>\n",
        "    </tr>\n",
        "    <tr>\n",
        "      <th>4</th>\n",
        "      <td>                      Energy</td>\n",
        "      <td>      Energy</td>\n",
        "      <td> kcal</td>\n",
        "      <td> 376.00</td>\n",
        "      <td> 1008</td>\n",
        "    </tr>\n",
        "  </tbody>\n",
        "</table>\n",
        "</div>"
       ],
       "metadata": {},
       "output_type": "pyout",
       "prompt_number": 178,
       "text": [
        "                      nutrient     nutgroup units   value    id\n",
        "0                      Protein  Composition     g   25.18  1008\n",
        "1            Total lipid (fat)  Composition     g   29.20  1008\n",
        "2  Carbohydrate, by difference  Composition     g    3.06  1008\n",
        "3                          Ash        Other     g    3.28  1008\n",
        "4                       Energy       Energy  kcal  376.00  1008"
       ]
      }
     ],
     "prompt_number": 178
    },
    {
     "cell_type": "code",
     "collapsed": false,
     "input": [
      "info.head()"
     ],
     "language": "python",
     "metadata": {},
     "outputs": [
      {
       "html": [
        "<div style=\"max-height:1000px;max-width:1500px;overflow:auto;\">\n",
        "<table border=\"1\" class=\"dataframe\">\n",
        "  <thead>\n",
        "    <tr style=\"text-align: right;\">\n",
        "      <th></th>\n",
        "      <th>food</th>\n",
        "      <th>fgroup</th>\n",
        "      <th>id</th>\n",
        "      <th>manufacturer</th>\n",
        "    </tr>\n",
        "  </thead>\n",
        "  <tbody>\n",
        "    <tr>\n",
        "      <th>0</th>\n",
        "      <td>                    Cheese, caraway</td>\n",
        "      <td> Dairy and Egg Products</td>\n",
        "      <td> 1008</td>\n",
        "      <td> </td>\n",
        "    </tr>\n",
        "    <tr>\n",
        "      <th>1</th>\n",
        "      <td>                    Cheese, cheddar</td>\n",
        "      <td> Dairy and Egg Products</td>\n",
        "      <td> 1009</td>\n",
        "      <td> </td>\n",
        "    </tr>\n",
        "    <tr>\n",
        "      <th>2</th>\n",
        "      <td>                       Cheese, edam</td>\n",
        "      <td> Dairy and Egg Products</td>\n",
        "      <td> 1018</td>\n",
        "      <td> </td>\n",
        "    </tr>\n",
        "    <tr>\n",
        "      <th>3</th>\n",
        "      <td>                       Cheese, feta</td>\n",
        "      <td> Dairy and Egg Products</td>\n",
        "      <td> 1019</td>\n",
        "      <td> </td>\n",
        "    </tr>\n",
        "    <tr>\n",
        "      <th>4</th>\n",
        "      <td> Cheese, mozzarella, part skim milk</td>\n",
        "      <td> Dairy and Egg Products</td>\n",
        "      <td> 1028</td>\n",
        "      <td> </td>\n",
        "    </tr>\n",
        "  </tbody>\n",
        "</table>\n",
        "</div>"
       ],
       "metadata": {},
       "output_type": "pyout",
       "prompt_number": 179,
       "text": [
        "                                 food                  fgroup    id  \\\n",
        "0                     Cheese, caraway  Dairy and Egg Products  1008   \n",
        "1                     Cheese, cheddar  Dairy and Egg Products  1009   \n",
        "2                        Cheese, edam  Dairy and Egg Products  1018   \n",
        "3                        Cheese, feta  Dairy and Egg Products  1019   \n",
        "4  Cheese, mozzarella, part skim milk  Dairy and Egg Products  1028   \n",
        "\n",
        "  manufacturer  \n",
        "0               \n",
        "1               \n",
        "2               \n",
        "3               \n",
        "4               "
       ]
      }
     ],
     "prompt_number": 179
    },
    {
     "cell_type": "code",
     "collapsed": false,
     "input": [
      "ndata = pd.merge(nutrients, info, on='id', how='outer')"
     ],
     "language": "python",
     "metadata": {},
     "outputs": [],
     "prompt_number": 180
    },
    {
     "cell_type": "code",
     "collapsed": false,
     "input": [
      "ndata.head()"
     ],
     "language": "python",
     "metadata": {},
     "outputs": [
      {
       "html": [
        "<div style=\"max-height:1000px;max-width:1500px;overflow:auto;\">\n",
        "<table border=\"1\" class=\"dataframe\">\n",
        "  <thead>\n",
        "    <tr style=\"text-align: right;\">\n",
        "      <th></th>\n",
        "      <th>nutrient</th>\n",
        "      <th>nutgroup</th>\n",
        "      <th>units</th>\n",
        "      <th>value</th>\n",
        "      <th>id</th>\n",
        "      <th>food</th>\n",
        "      <th>fgroup</th>\n",
        "      <th>manufacturer</th>\n",
        "    </tr>\n",
        "  </thead>\n",
        "  <tbody>\n",
        "    <tr>\n",
        "      <th>0</th>\n",
        "      <td>                     Protein</td>\n",
        "      <td> Composition</td>\n",
        "      <td>    g</td>\n",
        "      <td>  25.18</td>\n",
        "      <td> 1008</td>\n",
        "      <td> Cheese, caraway</td>\n",
        "      <td> Dairy and Egg Products</td>\n",
        "      <td> </td>\n",
        "    </tr>\n",
        "    <tr>\n",
        "      <th>1</th>\n",
        "      <td>           Total lipid (fat)</td>\n",
        "      <td> Composition</td>\n",
        "      <td>    g</td>\n",
        "      <td>  29.20</td>\n",
        "      <td> 1008</td>\n",
        "      <td> Cheese, caraway</td>\n",
        "      <td> Dairy and Egg Products</td>\n",
        "      <td> </td>\n",
        "    </tr>\n",
        "    <tr>\n",
        "      <th>2</th>\n",
        "      <td> Carbohydrate, by difference</td>\n",
        "      <td> Composition</td>\n",
        "      <td>    g</td>\n",
        "      <td>   3.06</td>\n",
        "      <td> 1008</td>\n",
        "      <td> Cheese, caraway</td>\n",
        "      <td> Dairy and Egg Products</td>\n",
        "      <td> </td>\n",
        "    </tr>\n",
        "    <tr>\n",
        "      <th>3</th>\n",
        "      <td>                         Ash</td>\n",
        "      <td>       Other</td>\n",
        "      <td>    g</td>\n",
        "      <td>   3.28</td>\n",
        "      <td> 1008</td>\n",
        "      <td> Cheese, caraway</td>\n",
        "      <td> Dairy and Egg Products</td>\n",
        "      <td> </td>\n",
        "    </tr>\n",
        "    <tr>\n",
        "      <th>4</th>\n",
        "      <td>                      Energy</td>\n",
        "      <td>      Energy</td>\n",
        "      <td> kcal</td>\n",
        "      <td> 376.00</td>\n",
        "      <td> 1008</td>\n",
        "      <td> Cheese, caraway</td>\n",
        "      <td> Dairy and Egg Products</td>\n",
        "      <td> </td>\n",
        "    </tr>\n",
        "  </tbody>\n",
        "</table>\n",
        "</div>"
       ],
       "metadata": {},
       "output_type": "pyout",
       "prompt_number": 181,
       "text": [
        "                      nutrient     nutgroup units   value    id  \\\n",
        "0                      Protein  Composition     g   25.18  1008   \n",
        "1            Total lipid (fat)  Composition     g   29.20  1008   \n",
        "2  Carbohydrate, by difference  Composition     g    3.06  1008   \n",
        "3                          Ash        Other     g    3.28  1008   \n",
        "4                       Energy       Energy  kcal  376.00  1008   \n",
        "\n",
        "              food                  fgroup manufacturer  \n",
        "0  Cheese, caraway  Dairy and Egg Products               \n",
        "1  Cheese, caraway  Dairy and Egg Products               \n",
        "2  Cheese, caraway  Dairy and Egg Products               \n",
        "3  Cheese, caraway  Dairy and Egg Products               \n",
        "4  Cheese, caraway  Dairy and Egg Products               "
       ]
      }
     ],
     "prompt_number": 181
    },
    {
     "cell_type": "code",
     "collapsed": false,
     "input": [
      "ndata.ix[30000]"
     ],
     "language": "python",
     "metadata": {},
     "outputs": [
      {
       "metadata": {},
       "output_type": "pyout",
       "prompt_number": 182,
       "text": [
        "nutrient                                       Glycine\n",
        "nutgroup                                   Amino Acids\n",
        "units                                                g\n",
        "value                                             0.04\n",
        "id                                                6158\n",
        "food            Soup, tomato bisque, canned, condensed\n",
        "fgroup                      Soups, Sauces, and Gravies\n",
        "manufacturer                                          \n",
        "Name: 30000, dtype: object"
       ]
      }
     ],
     "prompt_number": 182
    },
    {
     "cell_type": "heading",
     "level": 6,
     "metadata": {},
     "source": [
      "Nice ! Now we can select rows like this"
     ]
    },
    {
     "cell_type": "code",
     "collapsed": false,
     "input": [
      "result = ndata.groupby(['nutrient', 'fgroup'])['value'].quantile(0.5);result"
     ],
     "language": "python",
     "metadata": {},
     "outputs": [
      {
       "metadata": {},
       "output_type": "pyout",
       "prompt_number": 184,
       "text": [
        "nutrient          fgroup                           \n",
        "Adjusted Protein  Sweets                               12.900\n",
        "                  Vegetables and Vegetable Products     2.180\n",
        "Alanine           Baby Foods                            0.085\n",
        "                  Baked Products                        0.248\n",
        "                  Beef Products                         1.550\n",
        "                  Beverages                             0.003\n",
        "                  Breakfast Cereals                     0.311\n",
        "                  Cereal Grains and Pasta               0.373\n",
        "                  Dairy and Egg Products                0.271\n",
        "                  Ethnic Foods                          1.290\n",
        "                  Fast Foods                            0.514\n",
        "                  Fats and Oils                         0.000\n",
        "                  Finfish and Shellfish Products        1.218\n",
        "                  Fruits and Fruit Juices               0.027\n",
        "                  Lamb, Veal, and Game Products         1.408\n",
        "...\n",
        "Zinc, Zn  Finfish and Shellfish Products       0.67\n",
        "          Fruits and Fruit Juices              0.10\n",
        "          Lamb, Veal, and Game Products        3.94\n",
        "          Legumes and Legume Products          1.14\n",
        "          Meals, Entrees, and Sidedishes       0.63\n",
        "          Nut and Seed Products                3.29\n",
        "          Pork Products                        2.32\n",
        "          Poultry Products                     2.50\n",
        "          Restaurant Foods                     0.80\n",
        "          Sausages and Luncheon Meats          2.13\n",
        "          Snacks                               1.47\n",
        "          Soups, Sauces, and Gravies           0.20\n",
        "          Spices and Herbs                     2.75\n",
        "          Sweets                               0.36\n",
        "          Vegetables and Vegetable Products    0.33\n",
        "Name: value, Length: 2246, dtype: float64"
       ]
      }
     ],
     "prompt_number": 184
    },
    {
     "cell_type": "code",
     "collapsed": false,
     "input": [
      "import matplotlib.pyplot as plt\n",
      "%pylab inline\n",
      "result['Zinc, Zn'].order().plot(kind='barh')\n",
      "plt.show()"
     ],
     "language": "python",
     "metadata": {},
     "outputs": [
      {
       "output_type": "stream",
       "stream": "stdout",
       "text": [
        "Populating the interactive namespace from numpy and matplotlib\n"
       ]
      },
      {
       "output_type": "stream",
       "stream": "stderr",
       "text": [
        "WARNING: pylab import has clobbered these variables: ['info', 'rec', 'record']\n",
        "`%matplotlib` prevents importing * from pylab and numpy\n"
       ]
      },
      {
       "metadata": {},
       "output_type": "display_data",
       "png": "[encoded data removed]",
       "text": [
        "<matplotlib.figure.Figure at 0x7f52ac782890>"
       ]
      }
     ],
     "prompt_number": 196
    },
    {
     "cell_type": "heading",
     "level": 6,
     "metadata": {},
     "source": [
      "Ok so this is a plot showing the zinc content of all the different food groups within the dataset !"
     ]
    }
   ],
   "metadata": {}
  }
 ]
}